{
 "cells": [
  {
   "cell_type": "markdown",
   "id": "c10c3290",
   "metadata": {},
   "source": [
    "**Author: [Sudhanshu Singh](https://github.com/sudhanshusinghaiml \"Github Profile\")**"
   ]
  },
  {
   "cell_type": "code",
   "execution_count": 1,
   "id": "353515dd",
   "metadata": {},
   "outputs": [],
   "source": [
    "import numpy as np\n",
    "import pandas as pd\n",
    "import matplotlib.pyplot as plt\n",
    "import seaborn as sns\n",
    "import scipy.stats as stats \n",
    "from scipy.stats import norm\n",
    "from scipy.stats import ttest_1samp, ttest_ind\n",
    "\n",
    "from statsmodels.stats.anova import _get_covariance, anova_lm\n",
    "from statsmodels.formula.api import ols\n"
   ]
  },
  {
   "cell_type": "markdown",
   "id": "32936a03",
   "metadata": {},
   "source": [
    "# Problem Statement 1\n",
    "\n",
    "### A physiotherapist with a male football team is interested in studying the relationship between foot injuries and the positions at which the players play from the data collected"
   ]
  },
  {
   "cell_type": "markdown",
   "id": "21451ba2",
   "metadata": {},
   "source": [
    "||Striker |Forward |Attacking Midfielder |Winger |Total |\n",
    "|:- | :- | :- | :- | :- | :- |\n",
    "|Players Injured |45 |56 |24 |20 |145 |\n",
    "|Players Not Injured |32 |38 |11 |9 |90|\n",
    "|Total |77 |94 |35 |29 |235 |"
   ]
  },
  {
   "cell_type": "markdown",
   "id": "22503454",
   "metadata": {},
   "source": [
    "#### 1.1. What is the probability that a randomly chosen player would suffer an injury? "
   ]
  },
  {
   "cell_type": "code",
   "execution_count": 2,
   "id": "fa75bef3",
   "metadata": {},
   "outputs": [
    {
     "name": "stdout",
     "output_type": "stream",
     "text": [
      "Probability that a randomly chosen player would suffer an injury is 0.6170\n"
     ]
    }
   ],
   "source": [
    "players_injured = 145\n",
    "total_players = 235\n",
    "print('Probability that a randomly chosen player would suffer an injury is %0.4f' \n",
    "      %(players_injured/total_players))"
   ]
  },
  {
   "cell_type": "markdown",
   "id": "1c05ccde",
   "metadata": {},
   "source": [
    "#### 1.2. What is the probability that a player is a forward or a winger?"
   ]
  },
  {
   "cell_type": "code",
   "execution_count": 3,
   "id": "ff2d096c",
   "metadata": {},
   "outputs": [
    {
     "name": "stdout",
     "output_type": "stream",
     "text": [
      "Probability that a player is a forward or a winger is 0.5234\n"
     ]
    }
   ],
   "source": [
    "forward_player = 94\n",
    "winger_player = 29\n",
    "print('Probability that a player is a forward or a winger is %0.4f' \n",
    "      %((forward_player+winger_player)/total_players))"
   ]
  },
  {
   "cell_type": "markdown",
   "id": "c299cab7",
   "metadata": {},
   "source": [
    "#### 1.3. What is the probability that a randomly chosen player plays in a striker position and has a foot injury?"
   ]
  },
  {
   "cell_type": "code",
   "execution_count": 4,
   "id": "058a8297",
   "metadata": {},
   "outputs": [
    {
     "name": "stdout",
     "output_type": "stream",
     "text": [
      "Probability that a randomly chosen player plays in a striker position and has a foot injury is 0.1915\n"
     ]
    }
   ],
   "source": [
    "striker_and_injured = 45\n",
    "print('Probability that a randomly chosen player plays in a striker position and has a foot injury is %0.4f' \n",
    "      %(striker_and_injured/total_players))"
   ]
  },
  {
   "cell_type": "markdown",
   "id": "58df60ea",
   "metadata": {},
   "source": [
    "#### 1.4. What is the probability that a randomly chosen injured player is a striker?"
   ]
  },
  {
   "cell_type": "code",
   "execution_count": 5,
   "id": "cbc753a7",
   "metadata": {},
   "outputs": [
    {
     "name": "stdout",
     "output_type": "stream",
     "text": [
      "Probability that a randomly chosen injured player is a striker is 0.3103\n"
     ]
    }
   ],
   "source": [
    "print('Probability that a randomly chosen injured player is a striker is %0.4f'\n",
    "      %(striker_and_injured/players_injured))"
   ]
  },
  {
   "cell_type": "markdown",
   "id": "f9337b82",
   "metadata": {},
   "source": [
    "#### 1.5. What is the probability that a randomly chosen injured player is either a forward or an attacking midfielder?"
   ]
  },
  {
   "cell_type": "code",
   "execution_count": 6,
   "id": "f53d682b",
   "metadata": {},
   "outputs": [
    {
     "name": "stdout",
     "output_type": "stream",
     "text": [
      "Probability that a randomly chosen injured player is either a forward or an attacking midfielder is 0.5517\n"
     ]
    }
   ],
   "source": [
    "midfielder_injured_player = 24\n",
    "forward_injured_player = 56\n",
    "print('Probability that a randomly chosen injured player is either a forward or an attacking midfielder is %0.4f' \n",
    "      %((forward_injured_player+midfielder_injured_player)/players_injured))"
   ]
  },
  {
   "cell_type": "markdown",
   "id": "ab2c5219",
   "metadata": {},
   "source": [
    "### Summary:\n",
    "- Probability that a randomly chosen player would suffer an injury is 0.6170\n",
    "\n",
    "\n",
    "- Probability that a player is a forward or a winger is 0.5234\n",
    "\n",
    "\n",
    "- Probability that a randomly chosen player plays in a striker position and has a foot injury is 0.1915\n",
    "\n",
    "\n",
    "- Probability that a randomly chosen injured player is a striker is 0.3103\n",
    "\n",
    "\n",
    "- Probability that a randomly chosen injured player is either a forward or an attacking midfielder is 0.5517"
   ]
  },
  {
   "cell_type": "markdown",
   "id": "3c7231c2",
   "metadata": {},
   "source": [
    "# Problem Statement 2\n",
    "\n",
    "### An independent research organization is trying to estimate the probability that an accident at a nuclear power plant will result in radiation leakage. The types of accidents possible at the plant are, fire hazards, mechanical failure, or human error. The research organization also knows that two or more types of accidents cannot occur simultaneously."
   ]
  },
  {
   "cell_type": "markdown",
   "id": "98ee70a3",
   "metadata": {},
   "source": [
    "#### According to the studies carried out by the organization, the probability of a radiation leak in case of a fire is 20%, the probability of a radiation leak in case of a mechanical 50%, and the probability of a radiation leak in case of a human error is 10%. The studies also showed the following;\n",
    "- The probability of a radiation leak occurring simultaneously with a fire is 0.1%.\n",
    "- The probability of a radiation leak occurring simultaneously with a mechanical failure is 0.15%.\n",
    "- The probability of a radiation leak occurring simultaneously with a human error is 0.12%."
   ]
  },
  {
   "cell_type": "markdown",
   "id": "42fd9398",
   "metadata": {},
   "source": [
    "### Details Given in the Problem\n",
    "- The probability of a radiation leak in case of Fire - 20%\n",
    "- The probability of a radiation leak in case of a Mechanical - 50%\n",
    "- The probability of a radiation leak in case of a Human error - 10%\n",
    "\n",
    "- The probability of a radiation leak occurring simultaneously with a fire is 0.1%.\n",
    "- The probability of a radiation leak occurring simultaneously with a mechanical failure is 0.15%\n",
    "- The probability of a radiation leak occurring simultaneously with a human error is 0.12%"
   ]
  },
  {
   "cell_type": "markdown",
   "id": "5961ffd7",
   "metadata": {},
   "source": [
    "### On the basis of the information available, answer the questions below:\n",
    "\n",
    "#### 2.1 What are the probabilities of a fire, a mechanical failure, and a human error respectively?"
   ]
  },
  {
   "cell_type": "code",
   "execution_count": 7,
   "id": "9359682b",
   "metadata": {},
   "outputs": [
    {
     "name": "stdout",
     "output_type": "stream",
     "text": [
      "The probability of a fire is 0.00500\n"
     ]
    }
   ],
   "source": [
    "probability_radiation_leak_given_fire = 0.20\n",
    "probability_radiation_leak_given_mechanical = 0.50\n",
    "probability_radiation_leak_given_human_error = 0.10\n",
    "probability_radiation_leak_and_fire = 0.001\n",
    "probability_of_a_fire= probability_radiation_leak_and_fire/probability_radiation_leak_given_fire\n",
    "print('The probability of a fire is %0.5f' %(probability_of_a_fire))"
   ]
  },
  {
   "cell_type": "code",
   "execution_count": 8,
   "id": "2241959e",
   "metadata": {},
   "outputs": [
    {
     "name": "stdout",
     "output_type": "stream",
     "text": [
      "The probability of a mechanical error is 0.0030\n"
     ]
    }
   ],
   "source": [
    "probability_radiation_leak_and_mechanical = 0.0015\n",
    "probability_of_a_mechanical_failure= \n",
    "probability_radiation_leak_and_mechanical/probability_radiation_leak_given_mechanical\n",
    "print('The probability of a mechanical error is %0.4f' %(probability_of_a_mechanical_failure))"
   ]
  },
  {
   "cell_type": "code",
   "execution_count": 9,
   "id": "3f2b5aba",
   "metadata": {},
   "outputs": [
    {
     "name": "stdout",
     "output_type": "stream",
     "text": [
      "The probability of a human error is 0.0120\n"
     ]
    }
   ],
   "source": [
    "probability_radiation_leak_and_human_error = 0.0012\n",
    "probability_of_a_human_error= \n",
    "probability_radiation_leak_and_human_error/probability_radiation_leak_given_human_error\n",
    "print('The probability of a human error is %0.4f' %(probability_of_a_human_error))"
   ]
  },
  {
   "cell_type": "markdown",
   "id": "bdc3b9ae",
   "metadata": {},
   "source": [
    "#### 2.2 What is the probability of a radiation leak?"
   ]
  },
  {
   "cell_type": "code",
   "execution_count": 10,
   "id": "27a89cd0",
   "metadata": {},
   "outputs": [
    {
     "name": "stdout",
     "output_type": "stream",
     "text": [
      "The probability of a radiation leak is 0.0037\n"
     ]
    }
   ],
   "source": [
    "radiation_leak_by_fire = 0.001\n",
    "radiation_leak_by_mechanical = 0.0015\n",
    "radiation_leak_by_human_error = 0.0012\n",
    "\n",
    "probability_of_radiation_leak = \n",
    "probability_radiation_leak_and_fire + probability_radiation_leak_and_mechanical + \n",
    "probability_radiation_leak_and_human_error\n",
    "print('The probability of a radiation leak is %0.4f' %(probability_of_radiation_leak))"
   ]
  },
  {
   "cell_type": "markdown",
   "id": "e4723563",
   "metadata": {},
   "source": [
    "#### 2.3 Suppose there has been a radiation leak in the reactor for which the definite cause is not known. What is the probability that it has been caused by:\n",
    "\n",
    "- A Fire.\n",
    "- A Mechanical Failure.\n",
    "- A Human Error"
   ]
  },
  {
   "cell_type": "code",
   "execution_count": 11,
   "id": "5c33f340",
   "metadata": {},
   "outputs": [
    {
     "name": "stdout",
     "output_type": "stream",
     "text": [
      "The probability that radiation leak has been caused by a fire - 0.2703\n",
      "The probability that radiation leak has been caused by a mechanical failure - 0.4054\n",
      "The probability that radiation leak has been caused by a human error - 0.3243\n"
     ]
    }
   ],
   "source": [
    "print('The probability that radiation leak has been caused by a fire - %0.4f' \n",
    "      %(radiation_leak_by_fire/probability_of_radiation_leak))\n",
    "\n",
    "print('The probability that radiation leak has been caused by a mechanical failure - %0.4f' \n",
    "      %(radiation_leak_by_mechanical/probability_of_radiation_leak))\n",
    "\n",
    "print('The probability that radiation leak has been caused by a human error - %0.4f' \n",
    "      %(radiation_leak_by_human_error/probability_of_radiation_leak))"
   ]
  },
  {
   "cell_type": "markdown",
   "id": "3a84c3f2",
   "metadata": {},
   "source": [
    "### Summary:\n",
    "- The probability of a fire is 0.005  \n",
    "  The probability of a mechanical error is 0.003  \n",
    "  The probability of a human error is 0.012\n",
    "<br>\n",
    "<br>\n",
    "- The probability of a radiation leak is 0.0037  \n",
    "<br>\n",
    "<br>\n",
    "- The probabiltiy that radiation leak has been caused by a fire - 0.2703  \n",
    "  The probabiltiy that radiation leak has been caused by a mechanical failure - 0.4054  \n",
    "  The probabiltiy that radiation leak has been caused by a human error - 0.3243"
   ]
  },
  {
   "cell_type": "markdown",
   "id": "77d9792b",
   "metadata": {},
   "source": [
    "# Problem Statement 3\n",
    "\n",
    "### The breaking strength of gunny bags used for packaging cement is normally distributed with a mean of 5 kg per sq. centimeter and a standard deviation of 1.5 kg per sq. centimeter. The quality team of the cement company wants to know the following about the packaging material to better understand wastage or pilferage within the supply chain; Answer the questions below based on the given information; (Provide an appropriate visual representation of your answers, without which marks will be deducted)\n",
    "\n",
    "- 3.1 What proportion of the gunny bags have a breaking strength less than 3.17 kg per sq cm?\n",
    "\n",
    "- 3.2 What proportion of the gunny bags have a breaking strength at least 3.6 kg per sq cm.?\n",
    "\n",
    "- 3.3 What proportion of the gunny bags have a breaking strength between 5 and 5.5 kg per sq cm.?\n",
    "\n",
    "- 3.4 What proportion of the gunny bags have a breaking strength NOT between 3 and 7.5 kg per sq cm.?"
   ]
  },
  {
   "cell_type": "code",
   "execution_count": 12,
   "id": "ae6bedca",
   "metadata": {},
   "outputs": [],
   "source": [
    "breaking_strength_mean = 5\n",
    "breaking_strength_std = 1.5\n",
    "no_of_observations = 50"
   ]
  },
  {
   "cell_type": "code",
   "execution_count": 13,
   "id": "8daf0a85",
   "metadata": {},
   "outputs": [
    {
     "name": "stdout",
     "output_type": "stream",
     "text": [
      "[2.54182976 2.80512762 2.92457536 3.07370764 3.29956115 3.36734134\n",
      " 3.56996222 3.73446822 3.80816204 3.91206863 3.94703691 4.15516747\n",
      " 4.17989527 4.2713828  4.29402927 4.31739014 4.37165049 4.45556041\n",
      " 4.54020368 4.62511187 4.62708316 4.63057954 4.7197158  4.72501405\n",
      " 4.75108077 5.09634697 5.14312028 5.19623046 5.2312231  5.27445302\n",
      " 5.27770223 5.35271467 5.40228467 5.41954165 5.46511144 5.50669456\n",
      " 5.58970893 5.67873265 5.70324717 5.75837611 5.88508523 5.93840697\n",
      " 5.99930444 6.02900187 6.0701564  6.21452794 6.38959012 6.74916114\n",
      " 7.55786413 7.75720434]\n",
      "Mean -  4.906669921843379\n",
      "Standard Deviation -  1.134373339015232\n"
     ]
    }
   ],
   "source": [
    "data=np.random.normal(breaking_strength_mean, breaking_strength_std, no_of_observations)\n",
    "data.sort()\n",
    "print(data)\n",
    "print('Mean - ', data.mean())\n",
    "print('Standard Deviation - ', data.std())"
   ]
  },
  {
   "cell_type": "code",
   "execution_count": 14,
   "id": "3967cdda",
   "metadata": {},
   "outputs": [],
   "source": [
    "df_data = pd.DataFrame() ## Creating empty Dataframe\n",
    "df_data[\"BreakingStrength\"] = data\n",
    "df_data[\"PDF\"] = norm.pdf(df_data[\"BreakingStrength\"], breaking_strength_mean, breaking_strength_std)"
   ]
  },
  {
   "cell_type": "code",
   "execution_count": 15,
   "id": "0111db25",
   "metadata": {},
   "outputs": [
    {
     "data": {
      "text/html": [
       "<div>\n",
       "<style scoped>\n",
       "    .dataframe tbody tr th:only-of-type {\n",
       "        vertical-align: middle;\n",
       "    }\n",
       "\n",
       "    .dataframe tbody tr th {\n",
       "        vertical-align: top;\n",
       "    }\n",
       "\n",
       "    .dataframe thead th {\n",
       "        text-align: right;\n",
       "    }\n",
       "</style>\n",
       "<table border=\"1\" class=\"dataframe\">\n",
       "  <thead>\n",
       "    <tr style=\"text-align: right;\">\n",
       "      <th></th>\n",
       "      <th>BreakingStrength</th>\n",
       "      <th>PDF</th>\n",
       "    </tr>\n",
       "  </thead>\n",
       "  <tbody>\n",
       "    <tr>\n",
       "      <th>0</th>\n",
       "      <td>2.541830</td>\n",
       "      <td>0.069446</td>\n",
       "    </tr>\n",
       "    <tr>\n",
       "      <th>1</th>\n",
       "      <td>2.805128</td>\n",
       "      <td>0.091177</td>\n",
       "    </tr>\n",
       "    <tr>\n",
       "      <th>2</th>\n",
       "      <td>2.924575</td>\n",
       "      <td>0.102121</td>\n",
       "    </tr>\n",
       "    <tr>\n",
       "      <th>3</th>\n",
       "      <td>3.073708</td>\n",
       "      <td>0.116603</td>\n",
       "    </tr>\n",
       "    <tr>\n",
       "      <th>4</th>\n",
       "      <td>3.299561</td>\n",
       "      <td>0.139882</td>\n",
       "    </tr>\n",
       "  </tbody>\n",
       "</table>\n",
       "</div>"
      ],
      "text/plain": [
       "   BreakingStrength       PDF\n",
       "0          2.541830  0.069446\n",
       "1          2.805128  0.091177\n",
       "2          2.924575  0.102121\n",
       "3          3.073708  0.116603\n",
       "4          3.299561  0.139882"
      ]
     },
     "execution_count": 15,
     "metadata": {},
     "output_type": "execute_result"
    }
   ],
   "source": [
    "df_data.head()"
   ]
  },
  {
   "cell_type": "code",
   "execution_count": 16,
   "id": "72c13a6f",
   "metadata": {},
   "outputs": [
    {
     "name": "stdout",
     "output_type": "stream",
     "text": [
      "Z Score is -1.22000\n",
      "Proportion of the gunny bags have a breaking strength less than 3.17 kg per sq cm is 0.1112\n"
     ]
    }
   ],
   "source": [
    "breaking_strength_assume1 = 3.17\n",
    "z_317=(breaking_strength_assume1 - breaking_strength_mean)/breaking_strength_std\n",
    "prop_gunny_bags_breaking_strength_lessthan317 = norm.cdf(z_317)\n",
    "\n",
    "print('Z Score is %0.5f'%(z_317))\n",
    "print('Proportion of the gunny bags have a breaking strength less than 3.17 kg per sq cm is %0.4f'\n",
    "      %(prop_gunny_bags_breaking_strength_lessthan317))"
   ]
  },
  {
   "cell_type": "code",
   "execution_count": 17,
   "id": "5e895664",
   "metadata": {},
   "outputs": [
    {
     "data": {
      "image/png": "[encoded data removed]",
      "text/plain": [
       "<Figure size 1200x500 with 2 Axes>"
      ]
     },
     "metadata": {},
     "output_type": "display_data"
    }
   ],
   "source": [
    "fig = plt.figure(figsize=(12,5))\n",
    "fig.subplots_adjust(hspace=0.6, top=0.9, wspace= 0.2, bottom = 0.3)\n",
    "fig.suptitle('Plotting the Distribution for Breaking Strength of 3.17', fontsize=12)\n",
    "ax1 = fig.add_subplot(1,2,1)\n",
    "ax2 = fig.add_subplot(1,2,2)\n",
    "\n",
    "# We are plotting the probability distribution to better visualize the calculations.\n",
    "ax1.plot(df_data[\"BreakingStrength\"], df_data[\"PDF\"]) # plotting the pdf of the normal distribution\n",
    "ax1.axvline(breaking_strength_assume1, c=\"g\") # draw a red vertical line at x = 3.17\n",
    "x1 = np.linspace(df_data[\"BreakingStrength\"].min(), breaking_strength_assume1, 50) #create an array of 50 numbers between min breaking strength and breaking strength that we want to analyze \n",
    "ax1.fill_between(x1, norm.pdf(x1, breaking_strength_mean, breaking_strength_std), color=\"g\") # fill the specified region with red color\n",
    "ax1.set_xlabel(\"BreakingStrength\") # set the x-axis label\n",
    "ax1.set_ylabel(\"Probability\") # set the y-axis label\n",
    "ax1.set_title(\"Normal Distribution Plot\") # set the title\n",
    "\n",
    "## Plotting the Z-Score\n",
    "x11 = np.linspace(-4,4,50)\n",
    "y11 = norm.pdf(x11, loc = 0, scale = 1)\n",
    "ax2.plot(x11, y11, color = 'b')\n",
    "ax2.axvline(z_317, linestyle = '--', color = 'green')\n",
    "ax2.set_xlabel('Z Scores')\n",
    "ax2.set_ylabel('Probability')\n",
    "ax2.set_title('Z Score Plot for Z=%0.4f' %(z_317))\n",
    "\n",
    "plt.show() # display the plot"
   ]
  },
  {
   "cell_type": "code",
   "execution_count": 18,
   "id": "7686d15f",
   "metadata": {},
   "outputs": [
    {
     "name": "stdout",
     "output_type": "stream",
     "text": [
      "Z Score is -0.93333\n",
      "Proportion of the gunny bags have a breaking strength at least 3.6 kg per sq cm is 0.82468\n"
     ]
    }
   ],
   "source": [
    "breaking_strength_assume2 = 3.6\n",
    "z_lessthan_36 = (breaking_strength_assume2 - breaking_strength_mean)/breaking_strength_std\n",
    "prop_gunny_bags_breaking_strength_lessthan_36 = norm.cdf(z_lessthan_36)\n",
    "\n",
    "print('Z Score is %0.5f' % (z_lessthan_36))\n",
    "print('Proportion of the gunny bags have a breaking strength at least 3.6 kg per sq cm is %0.5f'\n",
    "      %(1-prop_gunny_bags_breaking_strength_lessthan_36))"
   ]
  },
  {
   "cell_type": "code",
   "execution_count": 19,
   "id": "1fc85f47",
   "metadata": {},
   "outputs": [
    {
     "data": {
      "image/png": "[encoded data removed]",
      "text/plain": [
       "<Figure size 1200x500 with 2 Axes>"
      ]
     },
     "metadata": {},
     "output_type": "display_data"
    }
   ],
   "source": [
    "fig = plt.figure(figsize=(12,5))\n",
    "fig.subplots_adjust(hspace=0.6, top=0.9, wspace= 0.2, bottom = 0.3)\n",
    "fig.suptitle('Plotting the Distribution for Breaking Strength of 3.6', fontsize=12)\n",
    "ax21 = fig.add_subplot(1,2,1)\n",
    "ax22 = fig.add_subplot(1,2,2)\n",
    "\n",
    "# We are plotting the probability distribution to better visualize the calculations.\n",
    "ax21.plot(df_data[\"BreakingStrength\"], df_data[\"PDF\"]) # plot the pdf of the normal distribution\n",
    "ax21.axvline(breaking_strength_assume2, c=\"g\") # draw a green vertical line at x = 3.6\n",
    "x2 = np.linspace(breaking_strength_assume2, df_data[\"BreakingStrength\"].max(), 50) #create an array of 50 numbers between min breaking strength and breaking strength that we want to analyze\n",
    "ax21.fill_between(x2, norm.pdf(x2, breaking_strength_mean, breaking_strength_std), color=\"g\") # fill the specified region with red color\n",
    "ax21.set_xlabel(\"BreakingStrength\") # set the x-axis label\n",
    "ax21.set_ylabel(\"Probability\") # set the y-axis label\n",
    "ax21.set_title(\"Normal Distribution Plot\") # set the title\n",
    "\n",
    "## Plotting the Z-Score\n",
    "x12 = np.linspace(-4,4,50)\n",
    "y12 = norm.pdf(x12, loc = 0, scale = 1)\n",
    "ax22.plot(x12, y12, color = 'b')\n",
    "ax22.axvline(z_lessthan_36, linestyle = '--', color = 'green')\n",
    "ax22.set_xlabel('Z Scores')\n",
    "ax22.set_ylabel('Probability')\n",
    "ax22.set_title('Z Score Plot for Z=%0.4f' %(z_lessthan_36))\n",
    "\n",
    "plt.show() # display the plot"
   ]
  },
  {
   "cell_type": "code",
   "execution_count": 20,
   "id": "126c11a6",
   "metadata": {},
   "outputs": [
    {
     "name": "stdout",
     "output_type": "stream",
     "text": [
      "Z Score for breaking strength of 5 is 0.0000\n",
      "Z Score for breaking strength of 5.5 is 0.3333\n",
      "Proportion of the gunny bags have a breaking strength between 5 and 5.5 kg per sq cm. is 0.13056\n"
     ]
    }
   ],
   "source": [
    "breaking_strength_from_assume = 5\n",
    "breaking_strength_to_assume = 5.5\n",
    "z_from_5 = (breaking_strength_from_assume - breaking_strength_mean)/breaking_strength_std\n",
    "z_from_55 = (breaking_strength_to_assume - breaking_strength_mean)/breaking_strength_std\n",
    "\n",
    "prop_gunny_bags_breaking_strength_from=norm.cdf(z_from_5)\n",
    "prop_gunny_bags_breaking_strength_to=norm.cdf(z_from_55)\n",
    "\n",
    "prop_gunny_bags_breaking_strength_between_5_and55 = \n",
    "prop_gunny_bags_breaking_strength_to - prop_gunny_bags_breaking_strength_from\n",
    "\n",
    "print('Z Score for breaking strength of 5 is %0.4f'%(z_from_5))\n",
    "print('Z Score for breaking strength of 5.5 is %0.4f'%(z_from_55))\n",
    "print('Proportion of the gunny bags have a breaking strength between 5 and 5.5 kg per sq cm. is %0.5f'\n",
    "      %(prop_gunny_bags_breaking_strength_between_5_and55))"
   ]
  },
  {
   "cell_type": "code",
   "execution_count": 21,
   "id": "d013cc9b",
   "metadata": {},
   "outputs": [
    {
     "data": {
      "image/png": "[encoded data removed]",
      "text/plain": [
       "<Figure size 1200x500 with 2 Axes>"
      ]
     },
     "metadata": {},
     "output_type": "display_data"
    }
   ],
   "source": [
    "fig = plt.figure(figsize=(12,5))\n",
    "fig.subplots_adjust(hspace=0.6, top=0.9, wspace= 0.2, bottom = 0.3)\n",
    "fig.suptitle('Plotting the Distribution for Breaking Strength between 5 and 5.5', fontsize=12)\n",
    "ax31 = fig.add_subplot(1,2,1)\n",
    "ax32 = fig.add_subplot(1,2,2)\n",
    "\n",
    "# We are plotting the probability distribution to better visualize the calculations.\n",
    "ax31.plot(df_data[\"BreakingStrength\"], df_data[\"PDF\"]) # plot the pdf of the normal distribution\n",
    "ax31.axvline(breaking_strength_from_assume, c=\"g\") # draw a green vertical line at x = 5\n",
    "ax31.axvline(breaking_strength_to_assume, c=\"r\") # draw a red vertical line at x = 5.5\n",
    "x3 = np.linspace(breaking_strength_from_assume, breaking_strength_to_assume, 50) # create an array of 50 numbers between min and max\n",
    "ax31.fill_between(x3, norm.pdf(x3, breaking_strength_mean, breaking_strength_std), color=\"g\") # fill the specified region with color\n",
    "ax31.set_xlabel(\"BreakingStrength\") # set the x-axis label\n",
    "ax31.set_ylabel(\"Probability\") # set the y-axis label\n",
    "ax31.set_title(\"Normal Distribution Plot\") # set the title\n",
    "\n",
    "## Plotting the Z-Score\n",
    "x13 = np.linspace(-4,4,50)\n",
    "y13 = norm.pdf(x13, loc = 0, scale = 1)\n",
    "ax32.plot(x13, y13, color = 'b')\n",
    "ax32.axvline(z_from_5, linestyle = '--', color = 'green')\n",
    "ax32.axvline(z_from_55, linestyle = '--', color = 'green')\n",
    "ax32.set_xlabel('Z Scores')\n",
    "ax32.set_ylabel('Probability')\n",
    "ax32.set_title('Z Score Plot for Z_lower=%0.4f and Z_higher=%0.4f' %(z_from_5, z_from_55))\n",
    "\n",
    "plt.show() # display the plot"
   ]
  },
  {
   "cell_type": "code",
   "execution_count": 22,
   "id": "4dfbfccf",
   "metadata": {},
   "outputs": [
    {
     "name": "stdout",
     "output_type": "stream",
     "text": [
      "-1.3333333333333333   1.6666666666666667\n",
      "Proportion of the gunny bags have a breaking strength NOT between 3 and 7.5 kg per sq cm is 0.1390\n"
     ]
    }
   ],
   "source": [
    "breaking_strength_from_assume2 = 3\n",
    "breaking_strength_to_assume2 = 7.5\n",
    "\n",
    "z_from_3 = (breaking_strength_from_assume2 - breaking_strength_mean)/breaking_strength_std\n",
    "z_from_7_5 = (breaking_strength_to_assume2 - breaking_strength_mean)/breaking_strength_std\n",
    "\n",
    "prop_gunny_bags_breaking_strength_from=norm.cdf(z_from_3)\n",
    "prop_gunny_bags_breaking_strength_to=norm.cdf(z_from_7_5)\n",
    "prop_gunny_bags_breaking_strength_between_3_and3_75 = \n",
    "prop_gunny_bags_breaking_strength_to - prop_gunny_bags_breaking_strength_from\n",
    "\n",
    "print(z_from_3 , ' ', z_from_7_5)\n",
    "print('Proportion of the gunny bags have a breaking strength NOT between 3 and 7.5 kg per sq cm is %0.4f'\n",
    "      %(1-prop_gunny_bags_breaking_strength_between_3_and3_75))"
   ]
  },
  {
   "cell_type": "code",
   "execution_count": 23,
   "id": "43028ba1",
   "metadata": {},
   "outputs": [
    {
     "data": {
      "image/png": "[encoded data removed]",
      "text/plain": [
       "<Figure size 1200x500 with 2 Axes>"
      ]
     },
     "metadata": {},
     "output_type": "display_data"
    }
   ],
   "source": [
    "fig = plt.figure(figsize=(12,5))\n",
    "fig.subplots_adjust(hspace=0.6, top=0.9, wspace= 0.2, bottom = 0.3)\n",
    "fig.suptitle('Plotting the Distribution for Breaking Strength Not Between 3 and 7.5', fontsize=12)\n",
    "ax41 = fig.add_subplot(1,2,1)\n",
    "ax42 = fig.add_subplot(1,2,2)\n",
    "\n",
    "# We are plotting the probability distribution to better visualize the calculations.\n",
    "ax41.plot(df_data[\"BreakingStrength\"], df_data[\"PDF\"]) # plot the pdf of the normal distribution\n",
    "ax41.axvline(breaking_strength_from_assume2, c=\"g\") # draw a green vertical line at x = 5\n",
    "ax41.axvline(breaking_strength_to_assume2, c=\"r\") # draw a red vertical line at x = 5.5\n",
    "x4 = np.linspace(df_data[\"BreakingStrength\"].min(), breaking_strength_from_assume2, 50)\n",
    "x5 = np.linspace(breaking_strength_to_assume2,df_data[\"BreakingStrength\"].max(), 50)\n",
    "ax41.fill_between(x4, norm.pdf(x4, breaking_strength_mean, breaking_strength_std), color=\"r\") # fill the specified region with red color\n",
    "ax41.fill_between(x5, norm.pdf(x5, breaking_strength_mean, breaking_strength_std), color=\"r\") # fill the specified region with red color\n",
    "ax41.set_xlabel(\"BreakingStrength\") # set the x-axis label\n",
    "ax41.set_ylabel(\"Probability\") # set the y-axis label\n",
    "ax41.set_title(\"Normal Distribution Plot\") # set the title\n",
    "\n",
    "## Plotting the Z-Score\n",
    "x14 = np.linspace(-4,4,50)\n",
    "y14 = norm.pdf(x14, loc = 0, scale = 1)\n",
    "ax42.plot(x14, y14, color = 'b')\n",
    "ax42.axvline(z_from_3, linestyle = '--', color = 'green')\n",
    "ax42.axvline(z_from_7_5, linestyle = '--', color = 'green')\n",
    "ax42.set_xlabel('Z Scores')\n",
    "ax42.set_ylabel('Probability')\n",
    "ax42.set_title('Z Score Plot for Z_lower=%0.4f and Z_higher=%0.4f' %(z_from_3, z_from_7_5))\n",
    "\n",
    "plt.show() # display the plot"
   ]
  },
  {
   "cell_type": "markdown",
   "id": "dd20cadb",
   "metadata": {},
   "source": [
    "### Summary:\n",
    "\n",
    "- The probability of the gunny bags have a breaking strength less than 3.17 kg per sq cm is 0.1112\n",
    " \n",
    "\n",
    "- The probability of the gunny bags have a breaking strength at least 3.6 kg per sq cm is 0.82468\n",
    "    \n",
    "  \n",
    "- The probability of the gunny bags have a breaking strength between 5 and 5.5 kg per sq cm is 0.13056\n",
    "\n",
    "\n",
    "- The probability of the gunny bags have a breaking strength NOT between 3 and 7.5 kg per sq cm is 0.1390 "
   ]
  },
  {
   "cell_type": "markdown",
   "id": "d6f39cc8",
   "metadata": {},
   "source": [
    "# Problem Statement 4\n",
    "\n",
    "### Grades of the final examination in a training course are found to be normally distributed, with a mean of 77 and a standard deviation of 8.5. Based on the given information answer the questions below.\n",
    "\n",
    " \n",
    "\n",
    "4.1 What is the probability that a randomly chosen student gets a grade below 85 on this exam?\n",
    "\n",
    "4.2 What is the probability that a randomly selected student scores between 65 and 87?\n",
    "\n",
    "4.3 What should be the passing cut-off so that 75% of the students clear the exam?"
   ]
  },
  {
   "cell_type": "code",
   "execution_count": 24,
   "id": "cdf623ed",
   "metadata": {},
   "outputs": [
    {
     "name": "stdout",
     "output_type": "stream",
     "text": [
      "The probability that a randomly chosen student gets a grade below 85 on this exam is 0.8267\n"
     ]
    }
   ],
   "source": [
    "z1 = (85-77)/8.5\n",
    "print('The probability that a randomly chosen student gets a grade below 85 on this exam is %0.4f'\n",
    "      %(norm.cdf(z1)))"
   ]
  },
  {
   "cell_type": "code",
   "execution_count": 25,
   "id": "f4ab85a8",
   "metadata": {},
   "outputs": [
    {
     "name": "stdout",
     "output_type": "stream",
     "text": [
      "The probability that a randomly selected student scores between 65 and 87 is 0.8013\n"
     ]
    }
   ],
   "source": [
    "probabiltiy_between_87_and_65 = norm.cdf(87,77,8.5) - norm.cdf(65,77,8.5)\n",
    "print('The probability that a randomly selected student scores between 65 and 87 is %0.4f' \n",
    "      %(probabiltiy_between_87_and_65))"
   ]
  },
  {
   "cell_type": "code",
   "execution_count": 26,
   "id": "bdd755a2",
   "metadata": {},
   "outputs": [
    {
     "name": "stdout",
     "output_type": "stream",
     "text": [
      "The passing cut-off so that 75% of the students clear the exam is 71.2668371233333\n"
     ]
    }
   ],
   "source": [
    "cut_off_score = norm.ppf(0.25,77,8.5)\n",
    "print('The passing cut-off so that 75% of the students clear the exam is',cut_off_score)"
   ]
  },
  {
   "cell_type": "markdown",
   "id": "520e03c6",
   "metadata": {},
   "source": [
    "### Summary:\n",
    "\n",
    "- The probability that a randomly chosen student gets a grade below 85 on this exam is 0.8267  \n",
    " \n",
    "\n",
    "- The probability that a randomly selected student scores between 65 and 87 is 0.8013  \n",
    "    \n",
    "    \n",
    "- The passing cut-off so that 75% of the students clear the exam is 71.2668371233333"
   ]
  },
  {
   "cell_type": "markdown",
   "id": "a3164356",
   "metadata": {},
   "source": [
    "# Problem Statement 5"
   ]
  },
  {
   "cell_type": "markdown",
   "id": "5b8c591c",
   "metadata": {},
   "source": [
    "### Zingaro stone printing is a company that specializes in printing images or patterns on polished or unpolished stones. However, for the optimum level of printing of the image the stone surface has to have a Brinell's hardness index of at least 150. Recently, Zingaro has received a batch of polished and unpolished stones from its clients. Use the data provided to answer the following (assuming a 5% significance level);"
   ]
  },
  {
   "cell_type": "markdown",
   "id": "5320cbc3",
   "metadata": {},
   "source": [
    "#### 5.1 Earlier experience of Zingaro with this particular client is favorable as the stone surface was found to be of adequate hardness. However, Zingaro has reason to believe now that the unpolished stones may not be suitable for printing. Do you think Zingaro is justified in thinking so?"
   ]
  },
  {
   "cell_type": "markdown",
   "id": "040c49ea",
   "metadata": {},
   "source": [
    "#### Let us analyze the data sets before starting the Hypothesis Testing"
   ]
  },
  {
   "cell_type": "code",
   "execution_count": 27,
   "id": "6cc08212",
   "metadata": {},
   "outputs": [],
   "source": [
    "df_zingaro = pd.read_csv('Zingaro_Company.csv')"
   ]
  },
  {
   "cell_type": "code",
   "execution_count": 28,
   "id": "f49619b2",
   "metadata": {},
   "outputs": [
    {
     "data": {
      "text/html": [
       "<div>\n",
       "<style scoped>\n",
       "    .dataframe tbody tr th:only-of-type {\n",
       "        vertical-align: middle;\n",
       "    }\n",
       "\n",
       "    .dataframe tbody tr th {\n",
       "        vertical-align: top;\n",
       "    }\n",
       "\n",
       "    .dataframe thead th {\n",
       "        text-align: right;\n",
       "    }\n",
       "</style>\n",
       "<table border=\"1\" class=\"dataframe\">\n",
       "  <thead>\n",
       "    <tr style=\"text-align: right;\">\n",
       "      <th></th>\n",
       "      <th>Unpolished</th>\n",
       "      <th>Treated and Polished</th>\n",
       "    </tr>\n",
       "  </thead>\n",
       "  <tbody>\n",
       "    <tr>\n",
       "      <th>0</th>\n",
       "      <td>164.481713</td>\n",
       "      <td>133.209393</td>\n",
       "    </tr>\n",
       "    <tr>\n",
       "      <th>1</th>\n",
       "      <td>154.307045</td>\n",
       "      <td>138.482771</td>\n",
       "    </tr>\n",
       "    <tr>\n",
       "      <th>2</th>\n",
       "      <td>129.861048</td>\n",
       "      <td>159.665201</td>\n",
       "    </tr>\n",
       "    <tr>\n",
       "      <th>3</th>\n",
       "      <td>159.096184</td>\n",
       "      <td>145.663528</td>\n",
       "    </tr>\n",
       "    <tr>\n",
       "      <th>4</th>\n",
       "      <td>135.256748</td>\n",
       "      <td>136.789227</td>\n",
       "    </tr>\n",
       "  </tbody>\n",
       "</table>\n",
       "</div>"
      ],
      "text/plain": [
       "   Unpolished   Treated and Polished\n",
       "0   164.481713            133.209393\n",
       "1   154.307045            138.482771\n",
       "2   129.861048            159.665201\n",
       "3   159.096184            145.663528\n",
       "4   135.256748            136.789227"
      ]
     },
     "execution_count": 28,
     "metadata": {},
     "output_type": "execute_result"
    }
   ],
   "source": [
    "df_zingaro.head()"
   ]
  },
  {
   "cell_type": "code",
   "execution_count": 29,
   "id": "659c897f",
   "metadata": {},
   "outputs": [
    {
     "name": "stdout",
     "output_type": "stream",
     "text": [
      "<class 'pandas.core.frame.DataFrame'>\n",
      "RangeIndex: 75 entries, 0 to 74\n",
      "Data columns (total 2 columns):\n",
      " #   Column                Non-Null Count  Dtype  \n",
      "---  ------                --------------  -----  \n",
      " 0   Unpolished            75 non-null     float64\n",
      " 1   Treated and Polished  75 non-null     float64\n",
      "dtypes: float64(2)\n",
      "memory usage: 1.3 KB\n"
     ]
    }
   ],
   "source": [
    "df_zingaro.info()"
   ]
  },
  {
   "cell_type": "code",
   "execution_count": 30,
   "id": "42f9ab79",
   "metadata": {
    "scrolled": true
   },
   "outputs": [
    {
     "data": {
      "text/html": [
       "<div>\n",
       "<style scoped>\n",
       "    .dataframe tbody tr th:only-of-type {\n",
       "        vertical-align: middle;\n",
       "    }\n",
       "\n",
       "    .dataframe tbody tr th {\n",
       "        vertical-align: top;\n",
       "    }\n",
       "\n",
       "    .dataframe thead th {\n",
       "        text-align: right;\n",
       "    }\n",
       "</style>\n",
       "<table border=\"1\" class=\"dataframe\">\n",
       "  <thead>\n",
       "    <tr style=\"text-align: right;\">\n",
       "      <th></th>\n",
       "      <th>Unpolished</th>\n",
       "      <th>Treated and Polished</th>\n",
       "    </tr>\n",
       "  </thead>\n",
       "  <tbody>\n",
       "    <tr>\n",
       "      <th>count</th>\n",
       "      <td>75.000000</td>\n",
       "      <td>75.000000</td>\n",
       "    </tr>\n",
       "    <tr>\n",
       "      <th>mean</th>\n",
       "      <td>134.110527</td>\n",
       "      <td>147.788117</td>\n",
       "    </tr>\n",
       "    <tr>\n",
       "      <th>std</th>\n",
       "      <td>33.041804</td>\n",
       "      <td>15.587355</td>\n",
       "    </tr>\n",
       "    <tr>\n",
       "      <th>min</th>\n",
       "      <td>48.406838</td>\n",
       "      <td>107.524167</td>\n",
       "    </tr>\n",
       "    <tr>\n",
       "      <th>25%</th>\n",
       "      <td>115.329753</td>\n",
       "      <td>138.268300</td>\n",
       "    </tr>\n",
       "    <tr>\n",
       "      <th>50%</th>\n",
       "      <td>135.597121</td>\n",
       "      <td>145.721322</td>\n",
       "    </tr>\n",
       "    <tr>\n",
       "      <th>75%</th>\n",
       "      <td>158.215098</td>\n",
       "      <td>157.373318</td>\n",
       "    </tr>\n",
       "    <tr>\n",
       "      <th>max</th>\n",
       "      <td>200.161313</td>\n",
       "      <td>192.272856</td>\n",
       "    </tr>\n",
       "  </tbody>\n",
       "</table>\n",
       "</div>"
      ],
      "text/plain": [
       "       Unpolished   Treated and Polished\n",
       "count    75.000000             75.000000\n",
       "mean    134.110527            147.788117\n",
       "std      33.041804             15.587355\n",
       "min      48.406838            107.524167\n",
       "25%     115.329753            138.268300\n",
       "50%     135.597121            145.721322\n",
       "75%     158.215098            157.373318\n",
       "max     200.161313            192.272856"
      ]
     },
     "execution_count": 30,
     "metadata": {},
     "output_type": "execute_result"
    }
   ],
   "source": [
    "df_zingaro.describe()"
   ]
  },
  {
   "cell_type": "code",
   "execution_count": 31,
   "id": "6223062b",
   "metadata": {},
   "outputs": [
    {
     "data": {
      "text/plain": [
       "Unpolished              0\n",
       "Treated and Polished    0\n",
       "dtype: int64"
      ]
     },
     "execution_count": 31,
     "metadata": {},
     "output_type": "execute_result"
    }
   ],
   "source": [
    "df_zingaro.isnull().sum()"
   ]
  },
  {
   "cell_type": "markdown",
   "id": "faba1119",
   "metadata": {},
   "source": [
    "#### The data set is clean with no missing value and correct datatype. Let us also check whether we have outlier in the data."
   ]
  },
  {
   "cell_type": "code",
   "execution_count": 32,
   "id": "de3b8505",
   "metadata": {
    "scrolled": false
   },
   "outputs": [
    {
     "data": {
      "image/png": "[encoded data removed]",
      "text/plain": [
       "<Figure size 1500x1500 with 2 Axes>"
      ]
     },
     "metadata": {},
     "output_type": "display_data"
    }
   ],
   "source": [
    "fig = plt.figure(figsize=(15,15))\n",
    "fig.subplots_adjust(hspace=0.6, top=0.9, wspace= 0.2, bottom = 0.3)\n",
    "fig.suptitle('Boxplot of Unpolished and Treated & Polished Before Outlier Treament', fontsize=12)\n",
    "ax1 = fig.add_subplot(2,2,1)\n",
    "ax2 = fig.add_subplot(2,2,2)\n",
    "sns.boxplot(data=df_zingaro, x='Unpolished ', ax= ax1);\n",
    "ax1.set_title(\"Boxplot of Unpolished\") # set the title\n",
    "\n",
    "sns.boxplot(data=df_zingaro, x='Treated and Polished', ax= ax2);\n",
    "ax2.set_title(\"Boxplot of Treated & Polished \"); # set the title"
   ]
  },
  {
   "cell_type": "markdown",
   "id": "bd790466",
   "metadata": {},
   "source": [
    "#### We can see that we have some outliers in the data. So, we should do outlier treatment"
   ]
  },
  {
   "cell_type": "markdown",
   "id": "5a493ab7",
   "metadata": {},
   "source": [
    "### Hypothesis Formulation\n",
    "\n",
    "Use the T Test: Two Sample TTest for Means:\n",
    "\n",
    "- Ho: $\\mu_{HardnessOfUnpolishedStone}$ = $\\mu_{HardnessOfTreatedAndPolishedStone}$ (The unpolished stones is suitable for printing)  \n",
    "\n",
    "\n",
    "- Ha: $\\mu_{HardnessOfUnpolishedStone}$ $\\neq$ $\\mu_{HardnessOfTreatedAndPolishedStone}$      (The unpolished stones may not be suitable for printing)"
   ]
  },
  {
   "cell_type": "code",
   "execution_count": 33,
   "id": "41e67353",
   "metadata": {},
   "outputs": [
    {
     "name": "stdout",
     "output_type": "stream",
     "text": [
      "tstat  -3.242\n",
      "p-value is: 0.0014655150194628353\n"
     ]
    }
   ],
   "source": [
    "t_statistic, p_value  =  ttest_ind(df_zingaro['Unpolished '],df_zingaro['Treated and Polished'])\n",
    "print('tstat  %1.3f' % t_statistic)    \n",
    "print(\"p-value is:\", p_value)"
   ]
  },
  {
   "cell_type": "code",
   "execution_count": 34,
   "id": "408732c5",
   "metadata": {},
   "outputs": [
    {
     "name": "stdout",
     "output_type": "stream",
     "text": [
      "Two-sample t-test p-value= 0.0014655150194628353\n",
      "We have enough evidence to reject the null hypothesis in favour of alternative hypothesis\n"
     ]
    }
   ],
   "source": [
    "# p_value < 0.05 => alternative hypothesis:\n",
    "# they don't have the same mean at the 5% significance level\n",
    "print (\"Two-sample t-test p-value=\", p_value)\n",
    "\n",
    "alpha_level = 0.05\n",
    "\n",
    "if p_value < alpha_level:\n",
    "    print('We have enough evidence to reject the null hypothesis in favour of alternative hypothesis')\n",
    "    \n",
    "else:\n",
    "    print('We do not have enough evidence to reject the null hypothesis.' \n",
    "          'So, we reject the alternative hypothesis and accept the null hypothesis')"
   ]
  },
  {
   "cell_type": "code",
   "execution_count": 35,
   "id": "228ff014",
   "metadata": {},
   "outputs": [
    {
     "name": "stdout",
     "output_type": "stream",
     "text": [
      "Mean hardness of Unpolished stones is- 134.1105\n",
      "Mean hardness of Treated and Polished stones is- 147.7881\n"
     ]
    }
   ],
   "source": [
    "x1bar = df_zingaro['Unpolished '].mean()\n",
    "\n",
    "x2bar = df_zingaro['Treated and Polished'].mean()\n",
    "\n",
    "print('Mean hardness of Unpolished stones is- %0.4f' %(x1bar))\n",
    "print('Mean hardness of Treated and Polished stones is- %0.4f' %(x2bar))"
   ]
  },
  {
   "cell_type": "markdown",
   "id": "81427f3c",
   "metadata": {},
   "source": [
    "### Outlier Treatment"
   ]
  },
  {
   "cell_type": "code",
   "execution_count": 36,
   "id": "5edc0253",
   "metadata": {},
   "outputs": [],
   "source": [
    "def find_outlier(cname):\n",
    "    sorted(cname)\n",
    "    q1, q3 = cname.quantile([0.25,0.75])\n",
    "    IQR = q3-q1\n",
    "    llimit = q1-(1.5 * IQR)\n",
    "    hlimit = q3+(1.5 * IQR)\n",
    "    return llimit, hlimit"
   ]
  },
  {
   "cell_type": "code",
   "execution_count": 37,
   "id": "3d1c3154",
   "metadata": {},
   "outputs": [
    {
     "name": "stdout",
     "output_type": "stream",
     "text": [
      "Less than Q1 level 51.001735124999996\n",
      "Less than Q1 level 222.543115725\n",
      "Less than Q1 level 109.61077220000004\n",
      "Less than Q1 level 186.03084539999998\n"
     ]
    }
   ],
   "source": [
    "clist = ['Unpolished ','Treated and Polished']\n",
    "for col in clist:\n",
    "    lval, hval = find_outlier(df_zingaro[col])\n",
    "    print('Less than Q1 level',lval)\n",
    "    print('Less than Q1 level',hval)"
   ]
  },
  {
   "cell_type": "code",
   "execution_count": 38,
   "id": "1bf5e680",
   "metadata": {},
   "outputs": [
    {
     "data": {
      "text/html": [
       "<div>\n",
       "<style scoped>\n",
       "    .dataframe tbody tr th:only-of-type {\n",
       "        vertical-align: middle;\n",
       "    }\n",
       "\n",
       "    .dataframe tbody tr th {\n",
       "        vertical-align: top;\n",
       "    }\n",
       "\n",
       "    .dataframe thead th {\n",
       "        text-align: right;\n",
       "    }\n",
       "</style>\n",
       "<table border=\"1\" class=\"dataframe\">\n",
       "  <thead>\n",
       "    <tr style=\"text-align: right;\">\n",
       "      <th></th>\n",
       "      <th>Unpolished</th>\n",
       "      <th>Treated and Polished</th>\n",
       "    </tr>\n",
       "  </thead>\n",
       "  <tbody>\n",
       "    <tr>\n",
       "      <th>14</th>\n",
       "      <td>48.406838</td>\n",
       "      <td>168.346223</td>\n",
       "    </tr>\n",
       "  </tbody>\n",
       "</table>\n",
       "</div>"
      ],
      "text/plain": [
       "    Unpolished   Treated and Polished\n",
       "14    48.406838            168.346223"
      ]
     },
     "execution_count": 38,
     "metadata": {},
     "output_type": "execute_result"
    }
   ],
   "source": [
    "df_zingaro[(df_zingaro['Unpolished ']<51) | (df_zingaro['Unpolished '] >222.543115725)]"
   ]
  },
  {
   "cell_type": "code",
   "execution_count": 39,
   "id": "2951c55a",
   "metadata": {},
   "outputs": [
    {
     "data": {
      "text/html": [
       "<div>\n",
       "<style scoped>\n",
       "    .dataframe tbody tr th:only-of-type {\n",
       "        vertical-align: middle;\n",
       "    }\n",
       "\n",
       "    .dataframe tbody tr th {\n",
       "        vertical-align: top;\n",
       "    }\n",
       "\n",
       "    .dataframe thead th {\n",
       "        text-align: right;\n",
       "    }\n",
       "</style>\n",
       "<table border=\"1\" class=\"dataframe\">\n",
       "  <thead>\n",
       "    <tr style=\"text-align: right;\">\n",
       "      <th></th>\n",
       "      <th>Unpolished</th>\n",
       "      <th>Treated and Polished</th>\n",
       "    </tr>\n",
       "  </thead>\n",
       "  <tbody>\n",
       "    <tr>\n",
       "      <th>48</th>\n",
       "      <td>184.582148</td>\n",
       "      <td>192.272856</td>\n",
       "    </tr>\n",
       "    <tr>\n",
       "      <th>63</th>\n",
       "      <td>121.407525</td>\n",
       "      <td>107.524167</td>\n",
       "    </tr>\n",
       "    <tr>\n",
       "      <th>66</th>\n",
       "      <td>117.797946</td>\n",
       "      <td>107.579388</td>\n",
       "    </tr>\n",
       "  </tbody>\n",
       "</table>\n",
       "</div>"
      ],
      "text/plain": [
       "    Unpolished   Treated and Polished\n",
       "48   184.582148            192.272856\n",
       "63   121.407525            107.524167\n",
       "66   117.797946            107.579388"
      ]
     },
     "execution_count": 39,
     "metadata": {},
     "output_type": "execute_result"
    }
   ],
   "source": [
    "df_zingaro[(df_zingaro['Treated and Polished']<109) | (df_zingaro['Treated and Polished'] >186.03084539999998)]"
   ]
  },
  {
   "cell_type": "code",
   "execution_count": 40,
   "id": "1ca55c99",
   "metadata": {},
   "outputs": [],
   "source": [
    "clist = ['Unpolished ','Treated and Polished']\n",
    "for col in clist:\n",
    "    lval, hval = find_outlier(df_zingaro[col])\n",
    "    df_zingaro[col] = np.where(df_zingaro[col] >hval, hval, df_zingaro[col])\n",
    "    df_zingaro[col] = np.where(df_zingaro[col] <lval, lval, df_zingaro[col])"
   ]
  },
  {
   "cell_type": "code",
   "execution_count": 41,
   "id": "354b57d3",
   "metadata": {},
   "outputs": [
    {
     "data": {
      "image/png": "[encoded data removed]",
      "text/plain": [
       "<Figure size 1500x1500 with 2 Axes>"
      ]
     },
     "metadata": {},
     "output_type": "display_data"
    }
   ],
   "source": [
    "fig = plt.figure(figsize=(15,15))\n",
    "fig.subplots_adjust(hspace=0.6, top=0.9, wspace= 0.2, bottom = 0.3)\n",
    "fig.suptitle('Boxplot of Unpolished and Treated & Polished Before Outlier Treament', fontsize=12)\n",
    "ax1 = fig.add_subplot(2,2,1)\n",
    "ax2 = fig.add_subplot(2,2,2)\n",
    "sns.boxplot(data=df_zingaro, x='Unpolished ', ax= ax1);\n",
    "ax1.set_title(\"Boxplot of Unpolished\") # set the title\n",
    "\n",
    "sns.boxplot(data=df_zingaro, x='Treated and Polished', ax= ax2);\n",
    "ax2.set_title(\"Boxplot of Treated & Polished\"); # set the title"
   ]
  },
  {
   "cell_type": "markdown",
   "id": "88c7a822",
   "metadata": {},
   "source": [
    "Hypothesis Formulation\n",
    "\n",
    "Use the T Test: Two Sample TTest for Means:\n",
    "\n",
    "- Ho: $\\mu_{HardnessOfPolishedStone}$ = $\\mu_{HardnessOfTreatedAndPolishedStone}$ (The polished stones is suitable for printing)  \n",
    "\n",
    "\n",
    "- Ha: $\\mu_{HardnessOfPolishedStone}$ $\\neq$ $\\mu_{HardnessOfTreatedAndPolishedStone}$      (The polished stones may not be suitable for printing)"
   ]
  },
  {
   "cell_type": "code",
   "execution_count": 42,
   "id": "28216f08",
   "metadata": {},
   "outputs": [
    {
     "name": "stdout",
     "output_type": "stream",
     "text": [
      "tstat  -3.248\n",
      "p-value is: 0.001436230005012731\n"
     ]
    }
   ],
   "source": [
    "t_statistic, p_value  =  ttest_ind(df_zingaro['Unpolished '],df_zingaro['Treated and Polished'])\n",
    "print('tstat  %1.3f' % t_statistic)    \n",
    "print(\"p-value is:\", p_value)"
   ]
  },
  {
   "cell_type": "code",
   "execution_count": 43,
   "id": "299a704c",
   "metadata": {},
   "outputs": [
    {
     "name": "stdout",
     "output_type": "stream",
     "text": [
      "Two-sample t-test p-value= 0.001436230005012731\n",
      "We have enough evidence to reject the null hypothesis in favour of alternative hypothesis\n"
     ]
    }
   ],
   "source": [
    "# p_value < 0.05 => alternative hypothesis:\n",
    "# they don't have the same mean at the 5% significance level\n",
    "print (\"Two-sample t-test p-value=\", p_value)\n",
    "\n",
    "alpha_level = 0.05\n",
    "\n",
    "if p_value < alpha_level:\n",
    "    print('We have enough evidence to reject the null hypothesis in favour of alternative hypothesis')\n",
    "    \n",
    "else:\n",
    "    print('We do not have enough evidence to reject the null hypothesis. So, we reject the alternative hypothesis and accept the null hypothesis')"
   ]
  },
  {
   "cell_type": "markdown",
   "id": "042cdd30",
   "metadata": {},
   "source": [
    "#### 5.2 Is the mean hardness of the polished and unpolished stones the same?"
   ]
  },
  {
   "cell_type": "markdown",
   "id": "62a53f81",
   "metadata": {},
   "source": [
    "Hypothesis Formulation\n",
    "\n",
    "Use the T Test: Two Sample TTest for Means:\n",
    "\n",
    "- Ho: $\\mu_{HardnessOfUnPolishedStone}$ = $\\mu_{HardnessOfPolishedStone}$ (The polished stones is suitable for printing)  \n",
    "\n",
    "\n",
    "- Ha: $\\mu_{HardnessOfUnPolishedStone}$ $\\neq$ $\\mu_{HardnessOfPolishedStone}$      (The polished stones may not be suitable for printing)"
   ]
  },
  {
   "cell_type": "code",
   "execution_count": 44,
   "id": "4995fdf1",
   "metadata": {},
   "outputs": [
    {
     "name": "stdout",
     "output_type": "stream",
     "text": [
      "tstat  -3.248\n",
      "p-value is: 0.001436230005012731\n"
     ]
    }
   ],
   "source": [
    "t_statistic, p_value  =  ttest_ind(df_zingaro['Unpolished '],df_zingaro['Treated and Polished'])\n",
    "print('tstat  %1.3f' % t_statistic)    \n",
    "print(\"p-value is:\", p_value)"
   ]
  },
  {
   "cell_type": "code",
   "execution_count": 45,
   "id": "d1b57285",
   "metadata": {},
   "outputs": [
    {
     "name": "stdout",
     "output_type": "stream",
     "text": [
      "Two-sample t-test p-value= 0.001436230005012731\n",
      "We have enough evidence to reject the null hypothesis in favour of alternative hypothesis\n"
     ]
    }
   ],
   "source": [
    "# p_value < 0.05 => alternative hypothesis:\n",
    "# they don't have the same mean at the 5% significance level\n",
    "print (\"Two-sample t-test p-value=\", p_value)\n",
    "\n",
    "alpha_level = 0.05\n",
    "\n",
    "if p_value < alpha_level:\n",
    "    print('We have enough evidence to reject the null hypothesis in favour of alternative hypothesis')\n",
    "    \n",
    "else:\n",
    "    print('We do not have enough evidence to reject the null hypothesis.'\n",
    "          'So, we reject the alternative hypothesis and accept the null hypothesis')"
   ]
  },
  {
   "cell_type": "code",
   "execution_count": 46,
   "id": "38d5b4bf",
   "metadata": {},
   "outputs": [
    {
     "name": "stdout",
     "output_type": "stream",
     "text": [
      "Mean hardness of Unpolished stones is- 134.1451\n",
      "Mean hardness of Treated and Polished stones is- 147.7598\n"
     ]
    }
   ],
   "source": [
    "x1bar = df_zingaro['Unpolished '].mean()\n",
    "\n",
    "x2bar = df_zingaro['Treated and Polished'].mean()\n",
    "\n",
    "print('Mean hardness of Unpolished stones is- %0.4f' %(x1bar))\n",
    "print('Mean hardness of Treated and Polished stones is- %0.4f' %(x2bar))"
   ]
  },
  {
   "cell_type": "markdown",
   "id": "decdcd5a",
   "metadata": {},
   "source": [
    "### Inference:\n",
    "#### Before Outlier Treatment\n",
    "- tstat -3.242  \n",
    "- p-value is: 0.0014655150194628353  \n",
    "- Since the p-value is less than level of significance, Zingaro is justified in thinking that the unpolished stones may not be suitable for printing.  \n",
    "\n",
    "\n",
    "- Mean hardness of the polished and unpolished stones is not the same.  \n",
    "  Mean hardness of Unpolished stones is- 134.1105  \n",
    "  Mean hardness of Treated and Polished stones is- 147.7881\n",
    "\n",
    "#### After Outlier Treatment\n",
    "- tstat -3.248  \n",
    "- p-value is: 0.001436230005012731  \n",
    "- Since the p-value is less than level of significance, Zingaro is justified in thinking that the unpolished stones may not be suitable for printing.  \n",
    "\n",
    "\n",
    "- Mean hardness of the polished and unpolished stones is not the same.  \n",
    "  Mean hardness of Unpolished stones is- 134.1451  \n",
    "  Mean hardness of Treated and Polished stones is- 147.7598"
   ]
  },
  {
   "cell_type": "markdown",
   "id": "b99ed1b9",
   "metadata": {},
   "source": [
    "# Problem Statement 6"
   ]
  },
  {
   "cell_type": "markdown",
   "id": "0ac72052",
   "metadata": {},
   "source": [
    "### Aquarius health club, one of the largest and most popular cross-fit gyms in the country has been advertising a rigorous program for body conditioning. The program is considered successful if the candidate is able to do more than 5 push-ups, as compared to when he/she enrolled in the program. Using the sample data provided can you conclude whether the program is successful? (Consider the level of Significance as 5%)\n",
    "\n",
    "- Note that this is a problem of the paired-t-test. Since the claim is that the training will make a difference of more than 5, the null and alternative hypotheses must be formed accordingly."
   ]
  },
  {
   "cell_type": "code",
   "execution_count": 47,
   "id": "0d5a00f5",
   "metadata": {},
   "outputs": [],
   "source": [
    "df_aquarius = pd.read_csv('Aquarius_gym.csv')"
   ]
  },
  {
   "cell_type": "code",
   "execution_count": 48,
   "id": "f86ec3a6",
   "metadata": {},
   "outputs": [
    {
     "data": {
      "text/html": [
       "<div>\n",
       "<style scoped>\n",
       "    .dataframe tbody tr th:only-of-type {\n",
       "        vertical-align: middle;\n",
       "    }\n",
       "\n",
       "    .dataframe tbody tr th {\n",
       "        vertical-align: top;\n",
       "    }\n",
       "\n",
       "    .dataframe thead th {\n",
       "        text-align: right;\n",
       "    }\n",
       "</style>\n",
       "<table border=\"1\" class=\"dataframe\">\n",
       "  <thead>\n",
       "    <tr style=\"text-align: right;\">\n",
       "      <th></th>\n",
       "      <th>Sr no.</th>\n",
       "      <th>Before</th>\n",
       "      <th>After</th>\n",
       "    </tr>\n",
       "  </thead>\n",
       "  <tbody>\n",
       "    <tr>\n",
       "      <th>0</th>\n",
       "      <td>1</td>\n",
       "      <td>39</td>\n",
       "      <td>44</td>\n",
       "    </tr>\n",
       "    <tr>\n",
       "      <th>1</th>\n",
       "      <td>2</td>\n",
       "      <td>25</td>\n",
       "      <td>25</td>\n",
       "    </tr>\n",
       "    <tr>\n",
       "      <th>2</th>\n",
       "      <td>3</td>\n",
       "      <td>39</td>\n",
       "      <td>39</td>\n",
       "    </tr>\n",
       "    <tr>\n",
       "      <th>3</th>\n",
       "      <td>4</td>\n",
       "      <td>6</td>\n",
       "      <td>13</td>\n",
       "    </tr>\n",
       "    <tr>\n",
       "      <th>4</th>\n",
       "      <td>5</td>\n",
       "      <td>40</td>\n",
       "      <td>44</td>\n",
       "    </tr>\n",
       "  </tbody>\n",
       "</table>\n",
       "</div>"
      ],
      "text/plain": [
       "   Sr no.  Before  After\n",
       "0       1      39     44\n",
       "1       2      25     25\n",
       "2       3      39     39\n",
       "3       4       6     13\n",
       "4       5      40     44"
      ]
     },
     "execution_count": 48,
     "metadata": {},
     "output_type": "execute_result"
    }
   ],
   "source": [
    "df_aquarius.head()"
   ]
  },
  {
   "cell_type": "code",
   "execution_count": 49,
   "id": "098d4858",
   "metadata": {},
   "outputs": [
    {
     "name": "stdout",
     "output_type": "stream",
     "text": [
      "<class 'pandas.core.frame.DataFrame'>\n",
      "RangeIndex: 100 entries, 0 to 99\n",
      "Data columns (total 3 columns):\n",
      " #   Column  Non-Null Count  Dtype\n",
      "---  ------  --------------  -----\n",
      " 0   Sr no.  100 non-null    int64\n",
      " 1   Before  100 non-null    int64\n",
      " 2   After   100 non-null    int64\n",
      "dtypes: int64(3)\n",
      "memory usage: 2.5 KB\n"
     ]
    }
   ],
   "source": [
    "df_aquarius.info()"
   ]
  },
  {
   "cell_type": "code",
   "execution_count": 50,
   "id": "42c503ab",
   "metadata": {},
   "outputs": [
    {
     "data": {
      "text/html": [
       "<div>\n",
       "<style scoped>\n",
       "    .dataframe tbody tr th:only-of-type {\n",
       "        vertical-align: middle;\n",
       "    }\n",
       "\n",
       "    .dataframe tbody tr th {\n",
       "        vertical-align: top;\n",
       "    }\n",
       "\n",
       "    .dataframe thead th {\n",
       "        text-align: right;\n",
       "    }\n",
       "</style>\n",
       "<table border=\"1\" class=\"dataframe\">\n",
       "  <thead>\n",
       "    <tr style=\"text-align: right;\">\n",
       "      <th></th>\n",
       "      <th>Sr no.</th>\n",
       "      <th>Before</th>\n",
       "      <th>After</th>\n",
       "    </tr>\n",
       "  </thead>\n",
       "  <tbody>\n",
       "    <tr>\n",
       "      <th>count</th>\n",
       "      <td>100.000000</td>\n",
       "      <td>100.000000</td>\n",
       "      <td>100.000000</td>\n",
       "    </tr>\n",
       "    <tr>\n",
       "      <th>mean</th>\n",
       "      <td>50.500000</td>\n",
       "      <td>26.940000</td>\n",
       "      <td>32.490000</td>\n",
       "    </tr>\n",
       "    <tr>\n",
       "      <th>std</th>\n",
       "      <td>29.011492</td>\n",
       "      <td>8.806357</td>\n",
       "      <td>8.779562</td>\n",
       "    </tr>\n",
       "    <tr>\n",
       "      <th>min</th>\n",
       "      <td>1.000000</td>\n",
       "      <td>3.000000</td>\n",
       "      <td>10.000000</td>\n",
       "    </tr>\n",
       "    <tr>\n",
       "      <th>25%</th>\n",
       "      <td>25.750000</td>\n",
       "      <td>21.750000</td>\n",
       "      <td>26.000000</td>\n",
       "    </tr>\n",
       "    <tr>\n",
       "      <th>50%</th>\n",
       "      <td>50.500000</td>\n",
       "      <td>28.000000</td>\n",
       "      <td>34.000000</td>\n",
       "    </tr>\n",
       "    <tr>\n",
       "      <th>75%</th>\n",
       "      <td>75.250000</td>\n",
       "      <td>32.250000</td>\n",
       "      <td>39.000000</td>\n",
       "    </tr>\n",
       "    <tr>\n",
       "      <th>max</th>\n",
       "      <td>100.000000</td>\n",
       "      <td>47.000000</td>\n",
       "      <td>51.000000</td>\n",
       "    </tr>\n",
       "  </tbody>\n",
       "</table>\n",
       "</div>"
      ],
      "text/plain": [
       "           Sr no.      Before       After\n",
       "count  100.000000  100.000000  100.000000\n",
       "mean    50.500000   26.940000   32.490000\n",
       "std     29.011492    8.806357    8.779562\n",
       "min      1.000000    3.000000   10.000000\n",
       "25%     25.750000   21.750000   26.000000\n",
       "50%     50.500000   28.000000   34.000000\n",
       "75%     75.250000   32.250000   39.000000\n",
       "max    100.000000   47.000000   51.000000"
      ]
     },
     "execution_count": 50,
     "metadata": {},
     "output_type": "execute_result"
    }
   ],
   "source": [
    "df_aquarius.describe()"
   ]
  },
  {
   "cell_type": "code",
   "execution_count": 51,
   "id": "af3f82d3",
   "metadata": {},
   "outputs": [
    {
     "data": {
      "text/plain": [
       "Sr no.    0\n",
       "Before    0\n",
       "After     0\n",
       "dtype: int64"
      ]
     },
     "execution_count": 51,
     "metadata": {},
     "output_type": "execute_result"
    }
   ],
   "source": [
    "df_aquarius.isnull().sum()"
   ]
  },
  {
   "cell_type": "code",
   "execution_count": 52,
   "id": "a7c2c0dc",
   "metadata": {},
   "outputs": [
    {
     "data": {
      "image/png": "[encoded data removed]",
      "text/plain": [
       "<Figure size 1500x1500 with 2 Axes>"
      ]
     },
     "metadata": {},
     "output_type": "display_data"
    }
   ],
   "source": [
    "fig = plt.figure(figsize=(15,15))\n",
    "fig.subplots_adjust(hspace=0.6, top=0.9, wspace= 0.2, bottom = 0.3)\n",
    "fig.suptitle('Boxplot of no of pushups Before and After joining the Gym', fontsize=12)\n",
    "ax1 = fig.add_subplot(2,2,1)\n",
    "ax2 = fig.add_subplot(2,2,2)\n",
    "\n",
    "sns.boxplot(data=df_aquarius, x='Before', ax= ax1);\n",
    "sns.boxplot(data=df_aquarius, x='After', ax= ax2);\n",
    "\n",
    "ax1.title.set_text(\"Boxplot of no of pushups Before joining the Gym\")\n",
    "ax2.title.set_text(\"Boxplot of no of pushups After joining the Gym\")"
   ]
  },
  {
   "cell_type": "code",
   "execution_count": 53,
   "id": "c82a32da",
   "metadata": {},
   "outputs": [
    {
     "data": {
      "text/html": [
       "<div>\n",
       "<style scoped>\n",
       "    .dataframe tbody tr th:only-of-type {\n",
       "        vertical-align: middle;\n",
       "    }\n",
       "\n",
       "    .dataframe tbody tr th {\n",
       "        vertical-align: top;\n",
       "    }\n",
       "\n",
       "    .dataframe thead th {\n",
       "        text-align: right;\n",
       "    }\n",
       "</style>\n",
       "<table border=\"1\" class=\"dataframe\">\n",
       "  <thead>\n",
       "    <tr style=\"text-align: right;\">\n",
       "      <th></th>\n",
       "      <th>Sr no.</th>\n",
       "      <th>Before</th>\n",
       "      <th>After</th>\n",
       "    </tr>\n",
       "  </thead>\n",
       "  <tbody>\n",
       "    <tr>\n",
       "      <th>3</th>\n",
       "      <td>4</td>\n",
       "      <td>6</td>\n",
       "      <td>13</td>\n",
       "    </tr>\n",
       "    <tr>\n",
       "      <th>61</th>\n",
       "      <td>62</td>\n",
       "      <td>3</td>\n",
       "      <td>10</td>\n",
       "    </tr>\n",
       "  </tbody>\n",
       "</table>\n",
       "</div>"
      ],
      "text/plain": [
       "    Sr no.  Before  After\n",
       "3        4       6     13\n",
       "61      62       3     10"
      ]
     },
     "execution_count": 53,
     "metadata": {},
     "output_type": "execute_result"
    }
   ],
   "source": [
    "df_aquarius[df_aquarius['Before']<10]"
   ]
  },
  {
   "cell_type": "markdown",
   "id": "d4b879b3",
   "metadata": {},
   "source": [
    "### Hypothesis Formulation\n",
    "\n",
    "Use the Pair t-Test: Two Sample Pair Test for Means:\n",
    "\n",
    "- Ho: $\\mu_{After}$ - $\\mu_{Before}$ $\\leq5$    (The training program is not successful)  \n",
    "\n",
    "\n",
    "- Ha: $\\mu_{After}$ - $\\mu_{Before}$ $>5$   (The training program is successful)"
   ]
  },
  {
   "cell_type": "code",
   "execution_count": 54,
   "id": "cb7112aa",
   "metadata": {},
   "outputs": [
    {
     "name": "stdout",
     "output_type": "stream",
     "text": [
      "tstat  -19.323\n",
      "p-value is: 2.2920419252511966e-35\n",
      "one-tailed p-value is: 1.1460209626255983e-35\n"
     ]
    }
   ],
   "source": [
    "t, p_value  = stats.ttest_rel(df_aquarius['Before'],df_aquarius['After'])  #Performing a paired t-test\n",
    "\n",
    "print('tstat  %1.3f' % t)    \n",
    "print(\"p-value is:\", p_value)\n",
    "print(\"one-tailed p-value is:\", p_value/2)"
   ]
  },
  {
   "cell_type": "code",
   "execution_count": 55,
   "id": "ac188b4b",
   "metadata": {},
   "outputs": [
    {
     "name": "stdout",
     "output_type": "stream",
     "text": [
      "Paired two-sample t-test p-value= 2.2920419252511966e-35\n",
      "We have enough evidence to reject the null hypothesis in favour of alternative hypothesis\n"
     ]
    }
   ],
   "source": [
    "# p_value < 0.05 => alternative hypothesis:\n",
    "# they don't have the same mean at the 5% significance level\n",
    "print (\"Paired two-sample t-test p-value=\", p_value)\n",
    "\n",
    "alpha_level = 0.05\n",
    "\n",
    "if (p_value/2) < alpha_level:\n",
    "    print('We have enough evidence to reject the null hypothesis in favour of alternative hypothesis')\n",
    "    \n",
    "else:\n",
    "    print('We do not have enough evidence to reject the null hypothesis.'\n",
    "          'So, we reject the alternative hypothesis and accept the null hypothesis')"
   ]
  },
  {
   "cell_type": "markdown",
   "id": "08c774c9",
   "metadata": {},
   "source": [
    "### Outlier Treatment"
   ]
  },
  {
   "cell_type": "code",
   "execution_count": 56,
   "id": "899d9d97",
   "metadata": {},
   "outputs": [
    {
     "name": "stdout",
     "output_type": "stream",
     "text": [
      "Less than Q1 level 6.0\n",
      "Less than Q1 level 48.0\n",
      "Less than Q1 level 6.5\n",
      "Less than Q1 level 58.5\n"
     ]
    }
   ],
   "source": [
    "clist = ['Before','After']\n",
    "for col in clist:\n",
    "    lval, hval = find_outlier(df_aquarius[col])\n",
    "    print('Less than Q1 level',lval)\n",
    "    print('Less than Q1 level',hval)"
   ]
  },
  {
   "cell_type": "code",
   "execution_count": 57,
   "id": "9a423f03",
   "metadata": {},
   "outputs": [],
   "source": [
    "clist = ['Before','After']\n",
    "for col in clist:\n",
    "    lval, hval = find_outlier(df_aquarius[col])\n",
    "    df_aquarius[col] = np.where(df_aquarius[col] >hval, hval, df_aquarius[col])\n",
    "    df_aquarius[col] = np.where(df_aquarius[col] <lval, lval, df_aquarius[col])"
   ]
  },
  {
   "cell_type": "markdown",
   "id": "063ce178",
   "metadata": {},
   "source": [
    "## After applying Outlier Treatment"
   ]
  },
  {
   "cell_type": "code",
   "execution_count": 58,
   "id": "f47338e2",
   "metadata": {},
   "outputs": [
    {
     "data": {
      "text/html": [
       "<div>\n",
       "<style scoped>\n",
       "    .dataframe tbody tr th:only-of-type {\n",
       "        vertical-align: middle;\n",
       "    }\n",
       "\n",
       "    .dataframe tbody tr th {\n",
       "        vertical-align: top;\n",
       "    }\n",
       "\n",
       "    .dataframe thead th {\n",
       "        text-align: right;\n",
       "    }\n",
       "</style>\n",
       "<table border=\"1\" class=\"dataframe\">\n",
       "  <thead>\n",
       "    <tr style=\"text-align: right;\">\n",
       "      <th></th>\n",
       "      <th>Sr no.</th>\n",
       "      <th>Before</th>\n",
       "      <th>After</th>\n",
       "    </tr>\n",
       "  </thead>\n",
       "  <tbody>\n",
       "    <tr>\n",
       "      <th>3</th>\n",
       "      <td>4</td>\n",
       "      <td>6.0</td>\n",
       "      <td>13.0</td>\n",
       "    </tr>\n",
       "    <tr>\n",
       "      <th>61</th>\n",
       "      <td>62</td>\n",
       "      <td>6.0</td>\n",
       "      <td>10.0</td>\n",
       "    </tr>\n",
       "  </tbody>\n",
       "</table>\n",
       "</div>"
      ],
      "text/plain": [
       "    Sr no.  Before  After\n",
       "3        4     6.0   13.0\n",
       "61      62     6.0   10.0"
      ]
     },
     "execution_count": 58,
     "metadata": {},
     "output_type": "execute_result"
    }
   ],
   "source": [
    "df_aquarius[df_aquarius['Before']<10]"
   ]
  },
  {
   "cell_type": "code",
   "execution_count": 59,
   "id": "eb06677a",
   "metadata": {},
   "outputs": [
    {
     "data": {
      "image/png": "[encoded data removed]",
      "text/plain": [
       "<Figure size 1500x1500 with 2 Axes>"
      ]
     },
     "metadata": {},
     "output_type": "display_data"
    }
   ],
   "source": [
    "fig = plt.figure(figsize=(15,15))\n",
    "fig.subplots_adjust(hspace=0.6, top=0.9, wspace= 0.2, bottom = 0.3)\n",
    "fig.suptitle('Boxplot of no of pushups Before and After joining the Gym', fontsize=12)\n",
    "ax1 = fig.add_subplot(2,2,1)\n",
    "ax2 = fig.add_subplot(2,2,2)\n",
    "\n",
    "sns.boxplot(data=df_aquarius, x='Before', ax= ax1);\n",
    "sns.boxplot(data=df_aquarius, x='After', ax= ax2);\n",
    "\n",
    "ax1.title.set_text(\"Boxplot of no of pushups Before joining the Gym\")\n",
    "ax2.title.set_text(\"Boxplot of no of pushups After joining the Gym\")"
   ]
  },
  {
   "cell_type": "code",
   "execution_count": 60,
   "id": "aeedb164",
   "metadata": {},
   "outputs": [
    {
     "name": "stdout",
     "output_type": "stream",
     "text": [
      "tstat  -19.216\n",
      "p-value is: 3.5404762786351575e-35\n",
      "one-tailed p-value is: 1.7702381393175787e-35\n"
     ]
    }
   ],
   "source": [
    "\n",
    "t, p_value  = stats.ttest_rel(df_aquarius['Before'],df_aquarius['After'])  #Performing a paired t-test\n",
    "\n",
    "print('tstat  %1.3f' % t)    \n",
    "print(\"p-value is:\", p_value)\n",
    "print(\"one-tailed p-value is:\", p_value/2)"
   ]
  },
  {
   "cell_type": "code",
   "execution_count": 61,
   "id": "5f7acb9c",
   "metadata": {},
   "outputs": [
    {
     "name": "stdout",
     "output_type": "stream",
     "text": [
      "Paired two-sample t-test p-value= 3.5404762786351575e-35\n",
      "We have enough evidence to reject the null hypothesis in favour of alternative hypothesis\n"
     ]
    }
   ],
   "source": [
    "# p_value < 0.05 => alternative hypothesis:\n",
    "# they don't have the same mean at the 5% significance level\n",
    "print (\"Paired two-sample t-test p-value=\", p_value)\n",
    "\n",
    "alpha_level = 0.05\n",
    "\n",
    "if (p_value/2) < alpha_level:\n",
    "    print('We have enough evidence to reject the null hypothesis in favour of alternative hypothesis')\n",
    "    \n",
    "else:\n",
    "    print('We do not have enough evidence to reject the null hypothesis.'\n",
    "          'So, we reject the alternative hypothesis and accept the null hypothesis')"
   ]
  },
  {
   "cell_type": "markdown",
   "id": "06e265e7",
   "metadata": {},
   "source": [
    "### Inference:\n",
    "#### Before Outlier Treatment\n",
    "- we get the following value of t-statistics and p-value\n",
    "- tstat -19.323\n",
    "- p-value is: 2.2920419252511966e-35\n",
    "- one-tailed p-value is: 1.1460209626255983e-35\n",
    "- We have enough evidence to reject the null hypothesis in favor of alternative hypothesis i.e., the training program is successful.\n",
    "\n",
    "#### After Outlier Treatment\n",
    "- We get the following value of t-statistics and p-value\n",
    "- tstat -19.216\n",
    "- p-value is: 3.5404762786351575e-35\n",
    "- one-tailed p-value is: 1.7702381393175787e-35\n",
    "- We have enough evidence to reject the null hypothesis in favor of alternative hypothesis i.e., the training program is successful  \n",
    "\n",
    "\n",
    "#### Since the p-value is significantly less than level of significance(0.05), the training program is Successful. "
   ]
  },
  {
   "cell_type": "markdown",
   "id": "c0610357",
   "metadata": {},
   "source": [
    "# Problem Statement 7\n",
    "\n",
    "### Dental implant data: The hardness of metal implant in dental cavities depends on multiple factors, such as the method of implant, the temperature at which the metal is treated, the alloy used as well as on the dentists who may favour one method above another and may work better in his/her favourite method. The response is the variable of interest."
   ]
  },
  {
   "cell_type": "code",
   "execution_count": 62,
   "id": "099cb238",
   "metadata": {},
   "outputs": [],
   "source": [
    "df_dental = pd.read_excel('DentalHardnessData.xlsx',sheet_name='Data')"
   ]
  },
  {
   "cell_type": "code",
   "execution_count": 63,
   "id": "bbf024f9",
   "metadata": {},
   "outputs": [
    {
     "data": {
      "text/html": [
       "<div>\n",
       "<style scoped>\n",
       "    .dataframe tbody tr th:only-of-type {\n",
       "        vertical-align: middle;\n",
       "    }\n",
       "\n",
       "    .dataframe tbody tr th {\n",
       "        vertical-align: top;\n",
       "    }\n",
       "\n",
       "    .dataframe thead th {\n",
       "        text-align: right;\n",
       "    }\n",
       "</style>\n",
       "<table border=\"1\" class=\"dataframe\">\n",
       "  <thead>\n",
       "    <tr style=\"text-align: right;\">\n",
       "      <th></th>\n",
       "      <th>Dentist</th>\n",
       "      <th>Method</th>\n",
       "      <th>Alloy</th>\n",
       "      <th>Temp</th>\n",
       "      <th>Response</th>\n",
       "    </tr>\n",
       "  </thead>\n",
       "  <tbody>\n",
       "    <tr>\n",
       "      <th>0</th>\n",
       "      <td>1</td>\n",
       "      <td>1</td>\n",
       "      <td>1</td>\n",
       "      <td>1500</td>\n",
       "      <td>813</td>\n",
       "    </tr>\n",
       "    <tr>\n",
       "      <th>1</th>\n",
       "      <td>1</td>\n",
       "      <td>1</td>\n",
       "      <td>1</td>\n",
       "      <td>1600</td>\n",
       "      <td>792</td>\n",
       "    </tr>\n",
       "    <tr>\n",
       "      <th>2</th>\n",
       "      <td>1</td>\n",
       "      <td>1</td>\n",
       "      <td>1</td>\n",
       "      <td>1700</td>\n",
       "      <td>792</td>\n",
       "    </tr>\n",
       "    <tr>\n",
       "      <th>3</th>\n",
       "      <td>1</td>\n",
       "      <td>1</td>\n",
       "      <td>2</td>\n",
       "      <td>1500</td>\n",
       "      <td>907</td>\n",
       "    </tr>\n",
       "    <tr>\n",
       "      <th>4</th>\n",
       "      <td>1</td>\n",
       "      <td>1</td>\n",
       "      <td>2</td>\n",
       "      <td>1600</td>\n",
       "      <td>792</td>\n",
       "    </tr>\n",
       "  </tbody>\n",
       "</table>\n",
       "</div>"
      ],
      "text/plain": [
       "   Dentist  Method  Alloy  Temp  Response\n",
       "0        1       1      1  1500       813\n",
       "1        1       1      1  1600       792\n",
       "2        1       1      1  1700       792\n",
       "3        1       1      2  1500       907\n",
       "4        1       1      2  1600       792"
      ]
     },
     "execution_count": 63,
     "metadata": {},
     "output_type": "execute_result"
    }
   ],
   "source": [
    "df_dental.head()"
   ]
  },
  {
   "cell_type": "code",
   "execution_count": 64,
   "id": "c0efdc39",
   "metadata": {},
   "outputs": [
    {
     "data": {
      "text/html": [
       "<div>\n",
       "<style scoped>\n",
       "    .dataframe tbody tr th:only-of-type {\n",
       "        vertical-align: middle;\n",
       "    }\n",
       "\n",
       "    .dataframe tbody tr th {\n",
       "        vertical-align: top;\n",
       "    }\n",
       "\n",
       "    .dataframe thead th {\n",
       "        text-align: right;\n",
       "    }\n",
       "</style>\n",
       "<table border=\"1\" class=\"dataframe\">\n",
       "  <thead>\n",
       "    <tr style=\"text-align: right;\">\n",
       "      <th></th>\n",
       "      <th>Dentist</th>\n",
       "      <th>Method</th>\n",
       "      <th>Alloy</th>\n",
       "      <th>Temp</th>\n",
       "      <th>Response</th>\n",
       "    </tr>\n",
       "  </thead>\n",
       "  <tbody>\n",
       "    <tr>\n",
       "      <th>85</th>\n",
       "      <td>5</td>\n",
       "      <td>3</td>\n",
       "      <td>1</td>\n",
       "      <td>1600</td>\n",
       "      <td>483</td>\n",
       "    </tr>\n",
       "    <tr>\n",
       "      <th>86</th>\n",
       "      <td>5</td>\n",
       "      <td>3</td>\n",
       "      <td>1</td>\n",
       "      <td>1700</td>\n",
       "      <td>405</td>\n",
       "    </tr>\n",
       "    <tr>\n",
       "      <th>87</th>\n",
       "      <td>5</td>\n",
       "      <td>3</td>\n",
       "      <td>2</td>\n",
       "      <td>1500</td>\n",
       "      <td>536</td>\n",
       "    </tr>\n",
       "    <tr>\n",
       "      <th>88</th>\n",
       "      <td>5</td>\n",
       "      <td>3</td>\n",
       "      <td>2</td>\n",
       "      <td>1600</td>\n",
       "      <td>405</td>\n",
       "    </tr>\n",
       "    <tr>\n",
       "      <th>89</th>\n",
       "      <td>5</td>\n",
       "      <td>3</td>\n",
       "      <td>2</td>\n",
       "      <td>1700</td>\n",
       "      <td>312</td>\n",
       "    </tr>\n",
       "  </tbody>\n",
       "</table>\n",
       "</div>"
      ],
      "text/plain": [
       "    Dentist  Method  Alloy  Temp  Response\n",
       "85        5       3      1  1600       483\n",
       "86        5       3      1  1700       405\n",
       "87        5       3      2  1500       536\n",
       "88        5       3      2  1600       405\n",
       "89        5       3      2  1700       312"
      ]
     },
     "execution_count": 64,
     "metadata": {},
     "output_type": "execute_result"
    }
   ],
   "source": [
    "df_dental.tail()"
   ]
  },
  {
   "cell_type": "code",
   "execution_count": 65,
   "id": "1069c3d8",
   "metadata": {},
   "outputs": [
    {
     "name": "stdout",
     "output_type": "stream",
     "text": [
      "<class 'pandas.core.frame.DataFrame'>\n",
      "RangeIndex: 90 entries, 0 to 89\n",
      "Data columns (total 5 columns):\n",
      " #   Column    Non-Null Count  Dtype\n",
      "---  ------    --------------  -----\n",
      " 0   Dentist   90 non-null     int64\n",
      " 1   Method    90 non-null     int64\n",
      " 2   Alloy     90 non-null     int64\n",
      " 3   Temp      90 non-null     int64\n",
      " 4   Response  90 non-null     int64\n",
      "dtypes: int64(5)\n",
      "memory usage: 3.6 KB\n"
     ]
    }
   ],
   "source": [
    "df_dental.info()"
   ]
  },
  {
   "cell_type": "code",
   "execution_count": 66,
   "id": "fac467b9",
   "metadata": {},
   "outputs": [],
   "source": [
    "df_dental['Dentist'] = pd.Categorical(df_dental['Dentist'])\n",
    "df_dental['Method'] = pd.Categorical(df_dental['Method'])\n",
    "df_dental['Temp'] = pd.Categorical(df_dental['Temp'])\n",
    "df_dental['Alloy'] = pd.Categorical(df_dental['Alloy'])"
   ]
  },
  {
   "cell_type": "code",
   "execution_count": 67,
   "id": "18a00612",
   "metadata": {},
   "outputs": [
    {
     "name": "stdout",
     "output_type": "stream",
     "text": [
      "<class 'pandas.core.frame.DataFrame'>\n",
      "RangeIndex: 90 entries, 0 to 89\n",
      "Data columns (total 5 columns):\n",
      " #   Column    Non-Null Count  Dtype   \n",
      "---  ------    --------------  -----   \n",
      " 0   Dentist   90 non-null     category\n",
      " 1   Method    90 non-null     category\n",
      " 2   Alloy     90 non-null     category\n",
      " 3   Temp      90 non-null     category\n",
      " 4   Response  90 non-null     int64   \n",
      "dtypes: category(4), int64(1)\n",
      "memory usage: 1.8 KB\n"
     ]
    }
   ],
   "source": [
    "df_dental.info()"
   ]
  },
  {
   "cell_type": "code",
   "execution_count": 68,
   "id": "f53d30d7",
   "metadata": {},
   "outputs": [
    {
     "data": {
      "text/plain": [
       "Dentist     0\n",
       "Method      0\n",
       "Alloy       0\n",
       "Temp        0\n",
       "Response    0\n",
       "dtype: int64"
      ]
     },
     "execution_count": 68,
     "metadata": {},
     "output_type": "execute_result"
    }
   ],
   "source": [
    "df_dental.isnull().sum()"
   ]
  },
  {
   "cell_type": "code",
   "execution_count": 69,
   "id": "53916e56",
   "metadata": {},
   "outputs": [
    {
     "data": {
      "text/plain": [
       "1    18\n",
       "2    18\n",
       "3    18\n",
       "4    18\n",
       "5    18\n",
       "Name: Dentist, dtype: int64"
      ]
     },
     "execution_count": 69,
     "metadata": {},
     "output_type": "execute_result"
    }
   ],
   "source": [
    "df_dental.Dentist.value_counts()"
   ]
  },
  {
   "cell_type": "code",
   "execution_count": 70,
   "id": "e926b79b",
   "metadata": {},
   "outputs": [
    {
     "data": {
      "text/plain": [
       "1    30\n",
       "2    30\n",
       "3    30\n",
       "Name: Method, dtype: int64"
      ]
     },
     "execution_count": 70,
     "metadata": {},
     "output_type": "execute_result"
    }
   ],
   "source": [
    "df_dental.Method.value_counts()"
   ]
  },
  {
   "cell_type": "code",
   "execution_count": 71,
   "id": "0b532ea3",
   "metadata": {},
   "outputs": [
    {
     "data": {
      "text/plain": [
       "1    45\n",
       "2    45\n",
       "Name: Alloy, dtype: int64"
      ]
     },
     "execution_count": 71,
     "metadata": {},
     "output_type": "execute_result"
    }
   ],
   "source": [
    "df_dental.Alloy.value_counts()"
   ]
  },
  {
   "cell_type": "code",
   "execution_count": 72,
   "id": "4525ae2d",
   "metadata": {},
   "outputs": [
    {
     "data": {
      "text/plain": [
       "1500    30\n",
       "1600    30\n",
       "1700    30\n",
       "Name: Temp, dtype: int64"
      ]
     },
     "execution_count": 72,
     "metadata": {},
     "output_type": "execute_result"
    }
   ],
   "source": [
    "df_dental.Temp.value_counts()"
   ]
  },
  {
   "cell_type": "code",
   "execution_count": 73,
   "id": "c32c929a",
   "metadata": {},
   "outputs": [
    {
     "data": {
      "text/plain": [
       "array([ 813,  792,  907,  835,  782,  698,  665, 1115,  870,  752,  620,\n",
       "        847,  560,  585,  715,  803,  858,  882,  772,  743,  933,  824,\n",
       "        673,  734,  681,  627,  762,  724,  613,  894,  649,  690,  493,\n",
       "        707,  289,  312, 1048,  421,  483,  405,  536], dtype=int64)"
      ]
     },
     "execution_count": 73,
     "metadata": {},
     "output_type": "execute_result"
    }
   ],
   "source": [
    "df_dental.Response.unique()"
   ]
  },
  {
   "cell_type": "markdown",
   "id": "79e0a534",
   "metadata": {},
   "source": [
    "### Creating 2 DataFrame based on Alloy Type"
   ]
  },
  {
   "cell_type": "code",
   "execution_count": 74,
   "id": "b61b4932",
   "metadata": {},
   "outputs": [],
   "source": [
    "df_dental_alloy1 = df_dental[df_dental['Alloy']==1]\n",
    "df_dental_alloy2 = df_dental[df_dental['Alloy']==2]"
   ]
  },
  {
   "cell_type": "code",
   "execution_count": 75,
   "id": "c748a090",
   "metadata": {},
   "outputs": [
    {
     "data": {
      "text/html": [
       "<div>\n",
       "<style scoped>\n",
       "    .dataframe tbody tr th:only-of-type {\n",
       "        vertical-align: middle;\n",
       "    }\n",
       "\n",
       "    .dataframe tbody tr th {\n",
       "        vertical-align: top;\n",
       "    }\n",
       "\n",
       "    .dataframe thead th {\n",
       "        text-align: right;\n",
       "    }\n",
       "</style>\n",
       "<table border=\"1\" class=\"dataframe\">\n",
       "  <thead>\n",
       "    <tr style=\"text-align: right;\">\n",
       "      <th></th>\n",
       "      <th>Dentist</th>\n",
       "      <th>Method</th>\n",
       "      <th>Alloy</th>\n",
       "      <th>Temp</th>\n",
       "      <th>Response</th>\n",
       "    </tr>\n",
       "  </thead>\n",
       "  <tbody>\n",
       "    <tr>\n",
       "      <th>0</th>\n",
       "      <td>1</td>\n",
       "      <td>1</td>\n",
       "      <td>1</td>\n",
       "      <td>1500</td>\n",
       "      <td>813</td>\n",
       "    </tr>\n",
       "    <tr>\n",
       "      <th>1</th>\n",
       "      <td>1</td>\n",
       "      <td>1</td>\n",
       "      <td>1</td>\n",
       "      <td>1600</td>\n",
       "      <td>792</td>\n",
       "    </tr>\n",
       "    <tr>\n",
       "      <th>2</th>\n",
       "      <td>1</td>\n",
       "      <td>1</td>\n",
       "      <td>1</td>\n",
       "      <td>1700</td>\n",
       "      <td>792</td>\n",
       "    </tr>\n",
       "    <tr>\n",
       "      <th>6</th>\n",
       "      <td>1</td>\n",
       "      <td>2</td>\n",
       "      <td>1</td>\n",
       "      <td>1500</td>\n",
       "      <td>782</td>\n",
       "    </tr>\n",
       "    <tr>\n",
       "      <th>7</th>\n",
       "      <td>1</td>\n",
       "      <td>2</td>\n",
       "      <td>1</td>\n",
       "      <td>1600</td>\n",
       "      <td>698</td>\n",
       "    </tr>\n",
       "  </tbody>\n",
       "</table>\n",
       "</div>"
      ],
      "text/plain": [
       "  Dentist Method Alloy  Temp  Response\n",
       "0       1      1     1  1500       813\n",
       "1       1      1     1  1600       792\n",
       "2       1      1     1  1700       792\n",
       "6       1      2     1  1500       782\n",
       "7       1      2     1  1600       698"
      ]
     },
     "execution_count": 75,
     "metadata": {},
     "output_type": "execute_result"
    }
   ],
   "source": [
    "df_dental_alloy1.head()"
   ]
  },
  {
   "cell_type": "code",
   "execution_count": 76,
   "id": "d26b859f",
   "metadata": {},
   "outputs": [
    {
     "data": {
      "text/html": [
       "<div>\n",
       "<style scoped>\n",
       "    .dataframe tbody tr th:only-of-type {\n",
       "        vertical-align: middle;\n",
       "    }\n",
       "\n",
       "    .dataframe tbody tr th {\n",
       "        vertical-align: top;\n",
       "    }\n",
       "\n",
       "    .dataframe thead th {\n",
       "        text-align: right;\n",
       "    }\n",
       "</style>\n",
       "<table border=\"1\" class=\"dataframe\">\n",
       "  <thead>\n",
       "    <tr style=\"text-align: right;\">\n",
       "      <th></th>\n",
       "      <th>Dentist</th>\n",
       "      <th>Method</th>\n",
       "      <th>Alloy</th>\n",
       "      <th>Temp</th>\n",
       "      <th>Response</th>\n",
       "    </tr>\n",
       "  </thead>\n",
       "  <tbody>\n",
       "    <tr>\n",
       "      <th>3</th>\n",
       "      <td>1</td>\n",
       "      <td>1</td>\n",
       "      <td>2</td>\n",
       "      <td>1500</td>\n",
       "      <td>907</td>\n",
       "    </tr>\n",
       "    <tr>\n",
       "      <th>4</th>\n",
       "      <td>1</td>\n",
       "      <td>1</td>\n",
       "      <td>2</td>\n",
       "      <td>1600</td>\n",
       "      <td>792</td>\n",
       "    </tr>\n",
       "    <tr>\n",
       "      <th>5</th>\n",
       "      <td>1</td>\n",
       "      <td>1</td>\n",
       "      <td>2</td>\n",
       "      <td>1700</td>\n",
       "      <td>835</td>\n",
       "    </tr>\n",
       "    <tr>\n",
       "      <th>9</th>\n",
       "      <td>1</td>\n",
       "      <td>2</td>\n",
       "      <td>2</td>\n",
       "      <td>1500</td>\n",
       "      <td>1115</td>\n",
       "    </tr>\n",
       "    <tr>\n",
       "      <th>10</th>\n",
       "      <td>1</td>\n",
       "      <td>2</td>\n",
       "      <td>2</td>\n",
       "      <td>1600</td>\n",
       "      <td>835</td>\n",
       "    </tr>\n",
       "  </tbody>\n",
       "</table>\n",
       "</div>"
      ],
      "text/plain": [
       "   Dentist Method Alloy  Temp  Response\n",
       "3        1      1     2  1500       907\n",
       "4        1      1     2  1600       792\n",
       "5        1      1     2  1700       835\n",
       "9        1      2     2  1500      1115\n",
       "10       1      2     2  1600       835"
      ]
     },
     "execution_count": 76,
     "metadata": {},
     "output_type": "execute_result"
    }
   ],
   "source": [
    "df_dental_alloy2.head()"
   ]
  },
  {
   "cell_type": "markdown",
   "id": "1d01a999",
   "metadata": {},
   "source": [
    "### 7.1   Test whether there is any difference among the dentists on the implant hardness. State the null and alternative hypotheses. Note that both types of alloys cannot be considered together. You must state the null and alternative hypotheses separately for the two types of alloys.?"
   ]
  },
  {
   "cell_type": "markdown",
   "id": "1944cfe4",
   "metadata": {},
   "source": [
    "### Hypthesis Formulation for Alloy Type 1\n",
    "\n",
    "##### Ho: Average Implant Hardness for Alloy Type 1 for all dentists are equal. There is no difference among the dentist on the implant hardness\n",
    "\n",
    "##### Ha: Average Implant Hardness for Alloy Type 1 for atleast one dentist is different. There is difference among the dentist on the implant hardness"
   ]
  },
  {
   "cell_type": "markdown",
   "id": "2f74d1ce",
   "metadata": {},
   "source": [
    "**Let us now perform One Way ANOVA with the variable 'Dentist' with respect to 'Response'.**"
   ]
  },
  {
   "cell_type": "code",
   "execution_count": 77,
   "id": "8d398c38",
   "metadata": {
    "scrolled": true
   },
   "outputs": [
    {
     "name": "stdout",
     "output_type": "stream",
     "text": [
      "              df         sum_sq       mean_sq         F    PR(>F)\n",
      "C(Dentist)   4.0  106683.688889  26670.922222  1.977112  0.116567\n",
      "Residual    40.0  539593.555556  13489.838889       NaN       NaN\n"
     ]
    }
   ],
   "source": [
    "formula = 'Response ~ C(Dentist)'\n",
    "model = ols(formula, df_dental_alloy1).fit()\n",
    "anova_table = anova_lm(model)\n",
    "print(anova_table)"
   ]
  },
  {
   "cell_type": "markdown",
   "id": "b991c938",
   "metadata": {},
   "source": [
    "### Hypthesis Formulation for Alloy Type 2\n",
    "\n",
    "##### Ho: Average Implant Hardness for Alloy Type 2 for all dentists are equal. There is no difference among the dentist on the implant hardness\n",
    "\n",
    "##### Ha: Average Implant Hardness for Alloy Type 2 for atleast one dentist is different. There is difference among the dentist on the implant hardness"
   ]
  },
  {
   "cell_type": "code",
   "execution_count": 78,
   "id": "c6ad76b9",
   "metadata": {
    "scrolled": true
   },
   "outputs": [
    {
     "name": "stdout",
     "output_type": "stream",
     "text": [
      "              df        sum_sq       mean_sq         F    PR(>F)\n",
      "C(Dentist)   4.0  5.679791e+04  14199.477778  0.524835  0.718031\n",
      "Residual    40.0  1.082205e+06  27055.122222       NaN       NaN\n"
     ]
    }
   ],
   "source": [
    "formula = 'Response ~ C(Dentist)'\n",
    "model = ols(formula, df_dental_alloy2).fit()\n",
    "anova_table = anova_lm(model)\n",
    "print(anova_table)"
   ]
  },
  {
   "cell_type": "markdown",
   "id": "c3b3bff1",
   "metadata": {},
   "source": [
    "### Observation:\n",
    "\n",
    "\n",
    "**Since the p-value (0.1165) is more than level of significance(0.05), so we failed to reject the null hypthesis.\n",
    "  It means that there is no difference among the dentist on the implant hardness for Alloy Type 1.**\n",
    "  \n",
    "  \n",
    "**Since the p-value (0.7180) is more than level of significance(0.05), so we failed to reject the null hypthesis.\n",
    "  It means that there is no difference among the dentist on the implant hardness for Alloy Type 2.**"
   ]
  },
  {
   "cell_type": "markdown",
   "id": "cb9d8599",
   "metadata": {},
   "source": [
    "### 7.2   Before the hypotheses may be tested, state the required assumptions. Are the assumptions fulfilled? Comment separately on both alloy types.?"
   ]
  },
  {
   "cell_type": "markdown",
   "id": "1b2a0ad5",
   "metadata": {},
   "source": [
    "#### Required Assumptions for One Way ANOVA Tests are :-  \n",
    "\n",
    "\n",
    "**Normality – Each sample is taken from a normally distributed population**  \n",
    "\n",
    "\n",
    "**Sample independence - Each sample has been drawn independently of the other samples.**  \n",
    "\n",
    "\n",
    "**Variance Equality – The variance of data in different groups should be the same.**  \n",
    "\n",
    "\n",
    "**Dependent variable should be continuous, that is, it should be measured on scale which can be subdivided using increments.**  "
   ]
  },
  {
   "cell_type": "markdown",
   "id": "bcdd5e74",
   "metadata": {},
   "source": [
    "### For Alloy Type 1"
   ]
  },
  {
   "cell_type": "markdown",
   "id": "fba00607",
   "metadata": {},
   "source": [
    "- Let us do the Shapiro Test: It tests the null hypothesis that the data was drawn from a normal distribution"
   ]
  },
  {
   "cell_type": "code",
   "execution_count": 79,
   "id": "b483e61b",
   "metadata": {},
   "outputs": [],
   "source": [
    "dentist_1 = df_dental_alloy1[df_dental_alloy1['Dentist']==1]['Response']\n",
    "dentist_2 = df_dental_alloy1[df_dental_alloy1['Dentist']==2]['Response']\n",
    "dentist_3 = df_dental_alloy1[df_dental_alloy1['Dentist']==3]['Response']\n",
    "dentist_4 = df_dental_alloy1[df_dental_alloy1['Dentist']==4]['Response']\n",
    "dentist_5 = df_dental_alloy1[df_dental_alloy1['Dentist']==5]['Response']"
   ]
  },
  {
   "cell_type": "code",
   "execution_count": 80,
   "id": "49f189f5",
   "metadata": {},
   "outputs": [
    {
     "name": "stdout",
     "output_type": "stream",
     "text": [
      "ShapiroResult(statistic=0.9113541841506958, pvalue=0.3254688084125519)\n",
      "ShapiroResult(statistic=0.9642462134361267, pvalue=0.8415456414222717)\n",
      "ShapiroResult(statistic=0.8721169233322144, pvalue=0.12953516840934753)\n",
      "ShapiroResult(statistic=0.8368974328041077, pvalue=0.05333680287003517)\n",
      "ShapiroResult(statistic=0.8534296751022339, pvalue=0.08127813786268234)\n"
     ]
    }
   ],
   "source": [
    "from scipy import stats\n",
    "#The Shapiro-Wilk test tests the null hypothesis that the data was drawn from a normal distribution.\n",
    "#alpha = 0.05\n",
    "print(stats.shapiro([dentist_1]))\n",
    "print(stats.shapiro([dentist_2]))\n",
    "print(stats.shapiro([dentist_3]))\n",
    "print(stats.shapiro([dentist_4]))\n",
    "print(stats.shapiro([dentist_5]))"
   ]
  },
  {
   "cell_type": "markdown",
   "id": "b7ab2a3d",
   "metadata": {},
   "source": [
    "**p-value for each dentist is more than the threshold(0.05) which is the alpha(0.05). So, we fail to reject the null hypothesis i.e. we have sufficient evidence to say that sample comes from a normal distribution**"
   ]
  },
  {
   "cell_type": "code",
   "execution_count": 81,
   "id": "51a08fbd",
   "metadata": {},
   "outputs": [
    {
     "name": "stdout",
     "output_type": "stream",
     "text": [
      "ShapiroResult(statistic=0.9183822870254517, pvalue=0.18198540806770325)\n",
      "ShapiroResult(statistic=0.9732585549354553, pvalue=0.9030335545539856)\n",
      "ShapiroResult(statistic=0.9114548563957214, pvalue=0.14254699647426605)\n"
     ]
    }
   ],
   "source": [
    "method_1 = df_dental_alloy1[df_dental_alloy1['Method']==1]['Response']\n",
    "method_2 = df_dental_alloy1[df_dental_alloy1['Method']==2]['Response']\n",
    "method_3 = df_dental_alloy1[df_dental_alloy1['Method']==3]['Response']\n",
    "\n",
    "print(stats.shapiro([method_1]))\n",
    "print(stats.shapiro([method_2]))\n",
    "print(stats.shapiro([method_3]))"
   ]
  },
  {
   "cell_type": "markdown",
   "id": "2f367f24",
   "metadata": {},
   "source": [
    "**p-value for each method is more than the threshold(0.05) which is the alpha(0.05). So, we fail to reject the null hypothesis i.e. we have sufficient evidence to say that sample comes from a normal distribution**"
   ]
  },
  {
   "cell_type": "code",
   "execution_count": 82,
   "id": "165f3ef4",
   "metadata": {},
   "outputs": [
    {
     "name": "stdout",
     "output_type": "stream",
     "text": [
      "ShapiroResult(statistic=0.7600352764129639, pvalue=0.001179991289973259)\n",
      "ShapiroResult(statistic=0.9596877098083496, pvalue=0.6869674324989319)\n",
      "ShapiroResult(statistic=0.7676342129707336, pvalue=0.0014549640472978354)\n"
     ]
    }
   ],
   "source": [
    "temperature_1 = df_dental_alloy1[df_dental_alloy1['Temp']==1500]['Response']\n",
    "temperature_2 = df_dental_alloy1[df_dental_alloy1['Temp']==1600]['Response']\n",
    "temperature_3 = df_dental_alloy1[df_dental_alloy1['Temp']==1700]['Response']\n",
    "\n",
    "print(stats.shapiro([temperature_1]))\n",
    "print(stats.shapiro([temperature_2]))\n",
    "print(stats.shapiro([temperature_3]))"
   ]
  },
  {
   "cell_type": "markdown",
   "id": "6b1f4ae1",
   "metadata": {},
   "source": [
    "**p-value for each temparture (1500 and 1700) is less than the threshold(0.05) which is the alpha(0.05). But p-value for temparture (1600) is more than the threshold(0.05). So, we need to perform Anderson Darling Test to reach any conclusion**"
   ]
  },
  {
   "cell_type": "code",
   "execution_count": 83,
   "id": "af1e4561",
   "metadata": {},
   "outputs": [
    {
     "name": "stdout",
     "output_type": "stream",
     "text": [
      "AndersonResult(statistic=1.4182291011571415, critical_values=array([0.498, 0.568, 0.681, 0.794, 0.945]), significance_level=array([15. , 10. ,  5. ,  2.5,  1. ]), fit_result=  params: FitParams(loc=724.9333333333333, scale=117.37757553338389)\n",
      " success: True\n",
      " message: '`anderson` successfully fit the distribution to the data.')\n",
      "AndersonResult(statistic=0.29589298337102576, critical_values=array([0.498, 0.568, 0.681, 0.794, 0.945]), significance_level=array([15. , 10. ,  5. ,  2.5,  1. ]), fit_result=  params: FitParams(loc=709.2666666666667, scale=93.35681677357705)\n",
      " success: True\n",
      " message: '`anderson` successfully fit the distribution to the data.')\n",
      "AndersonResult(statistic=1.4222646395973868, critical_values=array([0.498, 0.568, 0.681, 0.794, 0.945]), significance_level=array([15. , 10. ,  5. ,  2.5,  1. ]), fit_result=  params: FitParams(loc=688.2666666666667, scale=151.47393300813306)\n",
      " success: True\n",
      " message: '`anderson` successfully fit the distribution to the data.')\n"
     ]
    }
   ],
   "source": [
    "print(stats.anderson(temperature_1,dist='norm'))\n",
    "print(stats.anderson(temperature_2,dist='norm'))\n",
    "print(stats.anderson(temperature_3,dist='norm'))"
   ]
  },
  {
   "cell_type": "markdown",
   "id": "c9ff8d29",
   "metadata": {},
   "source": [
    "#### How to validate the Anderson Result:\n",
    "- If the statistical value is more than or not in range of the array value, then the dataset is not normally distributed.\n",
    "- If the statistical value is less than or lies between the array value, then the dataset is normally distributed\n",
    "- If overall more than 50% of the tests result is attributed to normal distribution\n",
    "\n",
    "\n",
    "#### In this case, the Anderson result shows that the datasets with respect to Temperatures are not normally distributed.\n"
   ]
  },
  {
   "cell_type": "code",
   "execution_count": 84,
   "id": "13a3e677",
   "metadata": {},
   "outputs": [
    {
     "name": "stdout",
     "output_type": "stream",
     "text": [
      "LeveneResult(statistic=1.3847146992797106, pvalue=0.2565537418543795)\n",
      "LeveneResult(statistic=6.52140454403598, pvalue=0.0034160381460233975)\n",
      "LeveneResult(statistic=0.26470963952464094, pvalue=0.7686994896007937)\n"
     ]
    }
   ],
   "source": [
    "#Homogeniety\n",
    "#The Levene test tests the null hypothesis that all input samples are from populations with equal variances.\n",
    "#alpha = 0.05\n",
    "print(stats.levene(dentist_1,dentist_2,dentist_3,dentist_4,dentist_5))\n",
    "print(stats.levene(method_1,method_2,method_3))\n",
    "print(stats.levene(temperature_1,temperature_2,temperature_3))"
   ]
  },
  {
   "cell_type": "markdown",
   "id": "d5a588f7",
   "metadata": {},
   "source": [
    "##### 1. **p-value for dentist is more than the threshold(0.05) which is the alpha(0.05). So, we fail to reject the null hypothesis i.e. we have sufficient evidence to say that sample variance is same**\n",
    "\n",
    "\n",
    "##### 2. **p-value for method is less than the threshold(0.05) which is the alpha(0.05). So, we reject the null hypothesis and accept the alternate hypthesis i.e. we do not have sufficient evidence to say that sample variance is same**\n",
    "\n",
    "\n",
    "##### 3. **p-value for temperature is more than the threshold(0.05) which is the alpha(0.05). So, we fail to reject the null hypothesis i.e. we have sufficient evidence to say that sample variance is same**"
   ]
  },
  {
   "cell_type": "markdown",
   "id": "14afad05",
   "metadata": {},
   "source": [
    "### For Alloy Type 2"
   ]
  },
  {
   "cell_type": "markdown",
   "id": "85743fe7",
   "metadata": {},
   "source": [
    "- Let us do the Saphiro Test: It tests the null hypothesis that the data was drawn from a normal distribution"
   ]
  },
  {
   "cell_type": "code",
   "execution_count": 85,
   "id": "53459396",
   "metadata": {},
   "outputs": [],
   "source": [
    "dentist_21 = df_dental_alloy2[df_dental_alloy2['Dentist']==1]['Response']\n",
    "dentist_22 = df_dental_alloy2[df_dental_alloy2['Dentist']==2]['Response']\n",
    "dentist_23 = df_dental_alloy2[df_dental_alloy2['Dentist']==3]['Response']\n",
    "dentist_24 = df_dental_alloy2[df_dental_alloy2['Dentist']==4]['Response']\n",
    "dentist_25 = df_dental_alloy2[df_dental_alloy2['Dentist']==5]['Response']"
   ]
  },
  {
   "cell_type": "code",
   "execution_count": 86,
   "id": "447f3471",
   "metadata": {},
   "outputs": [
    {
     "name": "stdout",
     "output_type": "stream",
     "text": [
      "ShapiroResult(statistic=0.9039731621742249, pvalue=0.27593979239463806)\n",
      "ShapiroResult(statistic=0.9392004013061523, pvalue=0.5735077857971191)\n",
      "ShapiroResult(statistic=0.9340971112251282, pvalue=0.5213080644607544)\n",
      "ShapiroResult(statistic=0.7613219022750854, pvalue=0.007332688197493553)\n",
      "ShapiroResult(statistic=0.9131584167480469, pvalue=0.33861100673675537)\n"
     ]
    }
   ],
   "source": [
    "from scipy import stats\n",
    "#The Shapiro-Wilk test tests the null hypothesis that the data was drawn from a normal distribution.\n",
    "#alpha = 0.05\n",
    "print(stats.shapiro([dentist_21]))\n",
    "print(stats.shapiro([dentist_22]))\n",
    "print(stats.shapiro([dentist_23]))\n",
    "print(stats.shapiro([dentist_24]))\n",
    "print(stats.shapiro([dentist_25]))"
   ]
  },
  {
   "cell_type": "markdown",
   "id": "50698374",
   "metadata": {},
   "source": [
    "**p-value for dentist 1,2,3 and 5 is more than the threshold(0.05) which is the alpha(0.05). And p-value for dentist 4 is less than the threshold(0.05) which is the alpha(0.05). Overall, we have 80% of dataset with significance level greater than 0.05. So, we failed to reject the null hypothesis i.e. we have sufficient evidence to say that sample comes from a normal distribution**"
   ]
  },
  {
   "cell_type": "code",
   "execution_count": 87,
   "id": "a686f43c",
   "metadata": {},
   "outputs": [
    {
     "name": "stdout",
     "output_type": "stream",
     "text": [
      "ShapiroResult(statistic=0.963810384273529, pvalue=0.7582374811172485)\n",
      "ShapiroResult(statistic=0.755793035030365, pvalue=0.001051110913977027)\n",
      "ShapiroResult(statistic=0.9021322131156921, pvalue=0.1025901660323143)\n"
     ]
    }
   ],
   "source": [
    "method_21 = df_dental_alloy2[df_dental_alloy2['Method']==1]['Response']\n",
    "method_22 = df_dental_alloy2[df_dental_alloy2['Method']==2]['Response']\n",
    "method_23 = df_dental_alloy2[df_dental_alloy2['Method']==3]['Response']\n",
    "\n",
    "print(stats.shapiro([method_21]))\n",
    "print(stats.shapiro([method_22]))\n",
    "print(stats.shapiro([method_23]))"
   ]
  },
  {
   "cell_type": "markdown",
   "id": "bf3c195c",
   "metadata": {},
   "source": [
    "**p-value for method 1 and 3 is more than the threshold (0.05) which is the alpha(0.05). But p-value for method 2 is less than the threshold(0.05). Since we have 66% of the dataset with level of significance more than 0.05, we fail to reject the null hypothesis i.e. we have sufficient evidence to say that sample comes from a normal distribution**"
   ]
  },
  {
   "cell_type": "code",
   "execution_count": 88,
   "id": "9d3d4b3e",
   "metadata": {},
   "outputs": [
    {
     "name": "stdout",
     "output_type": "stream",
     "text": [
      "ShapiroResult(statistic=0.9502270817756653, pvalue=0.5280351042747498)\n",
      "ShapiroResult(statistic=0.8828278183937073, pvalue=0.052296675741672516)\n",
      "ShapiroResult(statistic=0.8028314709663391, pvalue=0.003997983876615763)\n"
     ]
    }
   ],
   "source": [
    "temperature_21 = df_dental_alloy2[df_dental_alloy2['Temp']==1500]['Response']\n",
    "temperature_22 = df_dental_alloy2[df_dental_alloy2['Temp']==1600]['Response']\n",
    "temperature_23 = df_dental_alloy2[df_dental_alloy2['Temp']==1700]['Response']\n",
    "\n",
    "print(stats.shapiro([temperature_21]))\n",
    "print(stats.shapiro([temperature_22]))\n",
    "print(stats.shapiro([temperature_23]))"
   ]
  },
  {
   "cell_type": "markdown",
   "id": "8703e159",
   "metadata": {},
   "source": [
    "**p-value for each temparture (1500 and 1600) is more than the threshold(0.05) which is the alpha(0.05). But p-value for temparture (1700) is less than the threshold(0.05). Since we have 66% of the dataset with level of significance more than 0.05, we fail to reject the null hypothesis i.e. we have sufficient evidence to say that sample comes from a normal distribution**"
   ]
  },
  {
   "cell_type": "code",
   "execution_count": 89,
   "id": "c6e5493c",
   "metadata": {},
   "outputs": [
    {
     "name": "stdout",
     "output_type": "stream",
     "text": [
      "LeveneResult(statistic=1.4456166464566966, pvalue=0.23686777576324952)\n",
      "LeveneResult(statistic=3.349707184158617, pvalue=0.04469269939158668)\n",
      "LeveneResult(statistic=0.6697956965974987, pvalue=0.5171946653062957)\n"
     ]
    }
   ],
   "source": [
    "#Homogeniety\n",
    "#The Levene test tests the null hypothesis that all input samples are from populations with equal variances.\n",
    "#alpha = 0.05\n",
    "print(stats.levene(dentist_21,dentist_22,dentist_23,dentist_24,dentist_25))\n",
    "print(stats.levene(method_21,method_22,method_23))\n",
    "print(stats.levene(temperature_21,temperature_22,temperature_23))"
   ]
  },
  {
   "cell_type": "markdown",
   "id": "a7d0bf64",
   "metadata": {},
   "source": [
    "##### 1. **p-value for dentist is more than the threshold(0.05) which is the alpha(0.05). So, we fail to reject the null hypothesis i.e. we have sufficient evidence to say that sample variance is same**\n",
    "\n",
    "\n",
    "##### 2. **p-value for method is less than the threshold(0.05) which is the alpha(0.05). So, we reject the null hypothesis and accept the alternate hypthesis i.e. we do not have sufficient evidence to say that sample variance is same**\n",
    "\n",
    "\n",
    "##### 3. **p-value for temperature is more than the threshold(0.05) which is the alpha(0.05). So, we fail to reject the null hypothesis i.e. we have sufficient evidence to say that sample variance is same**"
   ]
  },
  {
   "cell_type": "markdown",
   "id": "6a910cfc",
   "metadata": {},
   "source": [
    "### 7.3  Irrespective of your conclusion in 2, we will continue with the testing procedure. What do you conclude regarding whether implant hardness depends on dentists? Clearly state your conclusion. If the null hypothesis is rejected, is it possible to identify which pairs of dentists differ?"
   ]
  },
  {
   "cell_type": "markdown",
   "id": "70af798d",
   "metadata": {},
   "source": [
    "### Hypthesis Formulation\n",
    "\n",
    "##### Ho: Average Implant Hardness for all dentists are equal. There is no difference among the dentist on the implant hardness\n",
    "\n",
    "##### Ha: Average Implant Hardness for atleast one dentist is different. There is difference among the dentist on the implant hardness"
   ]
  },
  {
   "cell_type": "markdown",
   "id": "1ca4ea26",
   "metadata": {},
   "source": [
    "**Let us now perform One Way ANOVA with the variable 'Dentist' with respect to 'Response'.**"
   ]
  },
  {
   "cell_type": "code",
   "execution_count": 90,
   "id": "88c7f0ee",
   "metadata": {
    "scrolled": true
   },
   "outputs": [
    {
     "name": "stdout",
     "output_type": "stream",
     "text": [
      "              df        sum_sq       mean_sq         F    PR(>F)\n",
      "C(Dentist)   4.0  1.577946e+05  39448.638889  1.934537  0.112066\n",
      "Residual    85.0  1.733301e+06  20391.776471       NaN       NaN\n"
     ]
    }
   ],
   "source": [
    "formula = 'Response ~ C(Dentist)'\n",
    "model = ols(formula, df_dental).fit()\n",
    "anova_table = anova_lm(model)\n",
    "print(anova_table)"
   ]
  },
  {
   "cell_type": "markdown",
   "id": "3fc947a2",
   "metadata": {},
   "source": [
    "### Observation:\n",
    "**Since the p-value (0.112066) is more than level of significance(0.05), so we failed to reject the null hypthesis.\n",
    "  It means that there is no difference among the dentist on the implant hardness for Alloy Type 1.**"
   ]
  },
  {
   "cell_type": "markdown",
   "id": "785db8f8",
   "metadata": {},
   "source": [
    "### 7.4  Now test whether there is any difference among the methods on the hardness of dental implant, separately for the two types of alloys. What are your conclusions? If the null hypothesis is rejected, is it possible to identify which pairs of methods differ?"
   ]
  },
  {
   "cell_type": "markdown",
   "id": "925ca980",
   "metadata": {},
   "source": [
    "### Hypthesis Formulation for Alloy Type 1\n",
    "\n",
    "##### Ho: Average Implant Hardness for Alloy Type 1 for all 3 methods are equal. There is no difference among the methods on the average implant hardness.\n",
    "\n",
    "##### Ha: Average Implant Hardness for Alloy Type 1 for all 3 methods is different. There is difference among the methods on the average implant hardness."
   ]
  },
  {
   "cell_type": "markdown",
   "id": "755c1c10",
   "metadata": {},
   "source": [
    "**Let us now perform One Way ANOVA with the variable 'Method' with respect to 'Response'.**"
   ]
  },
  {
   "cell_type": "code",
   "execution_count": 91,
   "id": "6c0dd0e8",
   "metadata": {
    "scrolled": true
   },
   "outputs": [
    {
     "name": "stdout",
     "output_type": "stream",
     "text": [
      "             df         sum_sq       mean_sq         F    PR(>F)\n",
      "C(Method)   2.0  148472.177778  74236.088889  6.263327  0.004163\n",
      "Residual   42.0  497805.066667  11852.501587       NaN       NaN\n"
     ]
    }
   ],
   "source": [
    "formula = 'Response ~ C(Method)'\n",
    "model = ols(formula, df_dental_alloy1).fit()\n",
    "anova_table = anova_lm(model)\n",
    "print(anova_table)"
   ]
  },
  {
   "cell_type": "markdown",
   "id": "377afe1b",
   "metadata": {},
   "source": [
    "### Hypthesis Formulation for Alloy Type 2\n",
    "\n",
    "##### Ho: Average Implant Hardness for Alloy Type 2 for all 3 methods are equal. There is no difference among the methods on the average implant hardness.\n",
    "\n",
    "##### Ha: Average Implant Hardness for Alloy Type 2 for all 3 methods is different. There is difference among the methods on the average implant hardness."
   ]
  },
  {
   "cell_type": "code",
   "execution_count": 92,
   "id": "0c15785b",
   "metadata": {
    "scrolled": true
   },
   "outputs": [
    {
     "name": "stdout",
     "output_type": "stream",
     "text": [
      "             df    sum_sq        mean_sq        F    PR(>F)\n",
      "C(Method)   2.0  499640.4  249820.200000  16.4108  0.000005\n",
      "Residual   42.0  639362.4   15222.914286      NaN       NaN\n"
     ]
    }
   ],
   "source": [
    "formula = 'Response ~ C(Method)'\n",
    "model = ols(formula, df_dental_alloy2).fit()\n",
    "anova_table = anova_lm(model)\n",
    "print(anova_table)"
   ]
  },
  {
   "cell_type": "markdown",
   "id": "793b3451",
   "metadata": {},
   "source": [
    "### Observation:\n",
    "\n",
    "\n",
    "**Since the p-value (0.004163) is less than level of significance(0.05), so we do not have enough evidence to reject the null hypothesis in favour of alternative hypothesis. It means that there is difference among the methods on the implant hardness for Alloy Type 1.**  \n",
    "\n",
    "\n",
    "**Since the p-value (0.000005) is less than level of significance(0.05), so we do not have enough evidence to reject the null hypothesis in favour of alternative hypothesis. It means that there is difference among the methods on the implant hardness for Alloy Type 2.**  \n",
    "\n",
    "**We cannot identify the pairs of methods that are different**"
   ]
  },
  {
   "cell_type": "markdown",
   "id": "86095f43",
   "metadata": {},
   "source": [
    "### 7.5   Now test whether there is any difference among the temperature levels on the hardness of dental implant, separately for the two types of alloys. What are your conclusions? If the null hypothesis is rejected, is it possible to identify which levels of temperatures differ?"
   ]
  },
  {
   "cell_type": "markdown",
   "id": "55befebf",
   "metadata": {},
   "source": [
    "### Hypthesis Formulation for Alloy Type 1\n",
    "\n",
    "##### Ho: Average Implant Hardness for Alloy Type 1 for all 3 temperature levels are equal. There is no difference among the temperature levels on the average implant hardness.\n",
    "\n",
    "##### Ha: Average Implant Hardness for Alloy Type 1 for all 3 temperature levels is different. There is difference among the temperature levels on the average implant hardness."
   ]
  },
  {
   "cell_type": "markdown",
   "id": "89231489",
   "metadata": {},
   "source": [
    "**Let us now perform One Way ANOVA with the variable 'Method' with respect to 'Response'.**"
   ]
  },
  {
   "cell_type": "code",
   "execution_count": 93,
   "id": "106d5dea",
   "metadata": {
    "scrolled": true
   },
   "outputs": [
    {
     "name": "stdout",
     "output_type": "stream",
     "text": [
      "            df         sum_sq       mean_sq         F    PR(>F)\n",
      "C(Temp)    2.0   10154.444444   5077.222222  0.335224  0.717074\n",
      "Residual  42.0  636122.800000  15145.780952       NaN       NaN\n"
     ]
    }
   ],
   "source": [
    "formula = 'Response ~ C(Temp)'\n",
    "model = ols(formula, df_dental_alloy1).fit()\n",
    "anova_table = anova_lm(model)\n",
    "print(anova_table)"
   ]
  },
  {
   "cell_type": "markdown",
   "id": "4c127e66",
   "metadata": {},
   "source": [
    "### Hypthesis Formulation for Alloy Type 2\n",
    "\n",
    "##### Ho: Average Implant Hardness for Alloy Type 2 for all 3 temperature levels are equal. There is no difference among the temperature levels on the average implant hardness.\n",
    "\n",
    "##### Ha: Average Implant Hardness for Alloy Type 2 for all 3 temperature levels is different. There is difference among the temperature levels on the average implant hardness."
   ]
  },
  {
   "cell_type": "code",
   "execution_count": 94,
   "id": "a5319e16",
   "metadata": {
    "scrolled": true
   },
   "outputs": [
    {
     "name": "stdout",
     "output_type": "stream",
     "text": [
      "            df        sum_sq       mean_sq         F    PR(>F)\n",
      "C(Temp)    2.0  9.374893e+04  46874.466667  1.883492  0.164678\n",
      "Residual  42.0  1.045254e+06  24886.996825       NaN       NaN\n"
     ]
    }
   ],
   "source": [
    "formula = 'Response ~ C(Temp)'\n",
    "model = ols(formula, df_dental_alloy2).fit()\n",
    "anova_table = anova_lm(model)\n",
    "print(anova_table)"
   ]
  },
  {
   "cell_type": "markdown",
   "id": "3e80a044",
   "metadata": {},
   "source": [
    "### Observation:\n",
    "\n",
    "\n",
    "**Since the p-value (0.717074) is more than level of significance(0.05), so we failed to reject the null hypothesis. It means that there is no difference among the temperature levels on the implant hardness for Alloy Type 1.**  \n",
    "\n",
    "\n",
    "**Since the p-value (0.164678) is more than level of significance(0.05), we failed to reject the null hypothesis. It means that there is no difference among the temperature levels on the implant hardness for Alloy Type 2.**  \n"
   ]
  },
  {
   "cell_type": "markdown",
   "id": "62913649",
   "metadata": {},
   "source": [
    "### 7.6  Consider the interaction effect of dentist and method and comment on the interaction plot, separately for the two types of alloys?"
   ]
  },
  {
   "cell_type": "code",
   "execution_count": 95,
   "id": "765062e9",
   "metadata": {},
   "outputs": [
    {
     "data": {
      "image/png": "[encoded data removed]",
      "text/plain": [
       "<Figure size 800x400 with 1 Axes>"
      ]
     },
     "metadata": {},
     "output_type": "display_data"
    }
   ],
   "source": [
    "plt.figure(figsize=(8,4))\n",
    "sns.pointplot(x='Dentist', y='Response', data=df_dental_alloy1, hue='Method',errorbar=None);\n",
    "plt.title(\"Interaction plot of dentist and method for Alloy Type 1\", fontsize=15)\n",
    "plt.xlabel(\"Dentist\")\n",
    "plt.ylabel(\"Mean of responses\")\n",
    "plt.show();"
   ]
  },
  {
   "cell_type": "code",
   "execution_count": 96,
   "id": "93eafd5f",
   "metadata": {
    "scrolled": false
   },
   "outputs": [
    {
     "data": {
      "image/png": "[encoded data removed]",
      "text/plain": [
       "<Figure size 800x400 with 1 Axes>"
      ]
     },
     "metadata": {},
     "output_type": "display_data"
    }
   ],
   "source": [
    "plt.figure(figsize=(8,4))\n",
    "sns.pointplot(x='Dentist', y='Response', data=df_dental_alloy2, hue='Method',errorbar=None);\n",
    "plt.title(\"Interaction plot of dentist and method for Alloy Type 2\", fontsize=15)\n",
    "plt.xlabel(\"Dentist\")\n",
    "plt.ylabel(\"Mean of responses\")\n",
    "plt.show();"
   ]
  },
  {
   "cell_type": "markdown",
   "id": "0a824d07",
   "metadata": {},
   "source": [
    "## Observations\n",
    "\n",
    "### For Alloy Type 1\n",
    "- We can see that there is clear interaction between Method 1, 2 and 3. So, we will try to see the interaction using the Two Way ANOVA.\n",
    "\n",
    "### For Alloy Type 2\n",
    "- We can see that there is some sort of interaction between Method 1 and 2. However, there seems to be no interaction between Method 1 and 3 or Method 2 and 3. So, we will introduce a new term while performing the Two Way ANOVA."
   ]
  },
  {
   "cell_type": "markdown",
   "id": "a1983ec9",
   "metadata": {},
   "source": [
    "### 7.7   Now consider the effect of both factors, dentist, and method, separately on each alloy. What do you conclude? Is it possible to identify which dentists are different, which methods are different, and which interaction levels are different?"
   ]
  },
  {
   "cell_type": "code",
   "execution_count": 97,
   "id": "cb41d8c0",
   "metadata": {
    "scrolled": true
   },
   "outputs": [
    {
     "name": "stdout",
     "output_type": "stream",
     "text": [
      "                        df         sum_sq       mean_sq          F    PR(>F)\n",
      "C(Dentist)             4.0  106683.688889  26670.922222   3.899638  0.011484\n",
      "C(Method)              2.0  148472.177778  74236.088889  10.854287  0.000284\n",
      "C(Dentist):C(Method)   8.0  185941.377778  23242.672222   3.398383  0.006793\n",
      "Residual              30.0  205180.000000   6839.333333        NaN       NaN\n"
     ]
    }
   ],
   "source": [
    "formula = 'Response ~ C(Dentist) + C(Method) + C(Dentist):C(Method)'\n",
    "model = ols(formula, df_dental_alloy1).fit()\n",
    "anova_table = anova_lm(model)\n",
    "print(anova_table)"
   ]
  },
  {
   "cell_type": "code",
   "execution_count": 98,
   "id": "6c4b8042",
   "metadata": {
    "scrolled": true
   },
   "outputs": [
    {
     "name": "stdout",
     "output_type": "stream",
     "text": [
      "                        df         sum_sq        mean_sq          F    PR(>F)\n",
      "C(Dentist)             4.0   56797.911111   14199.477778   1.106152  0.371833\n",
      "C(Method)              2.0  499640.400000  249820.200000  19.461218  0.000004\n",
      "C(Dentist):C(Method)   8.0  197459.822222   24682.477778   1.922787  0.093234\n",
      "Residual              30.0  385104.666667   12836.822222        NaN       NaN\n"
     ]
    }
   ],
   "source": [
    "formula = 'Response ~ C(Dentist) + C(Method) + C(Dentist):C(Method)'\n",
    "model = ols(formula, df_dental_alloy2).fit()\n",
    "anova_table = anova_lm(model)\n",
    "print(anova_table)"
   ]
  },
  {
   "cell_type": "markdown",
   "id": "85f099c5",
   "metadata": {},
   "source": [
    "### Inference\n",
    "-  For alloy type 1, p-value is less than level of significance 0.05, so we reject the null hypothesis to conclude that we have sufficient evidence to say that there is some interaction between Dentist and Methods. However, we cannot identify which dentist or methods or which interaction level is different.  \n",
    "\n",
    "\n",
    "- For alloy type 2, p-value is more than level of significance (0.05), so we failed to reject the null hypothesis i.e., There is no interaction between Dentist and Methods. We cannot identify which dentist or methods or which interaction level is different\n"
   ]
  }
 ],
 "metadata": {
  "kernelspec": {
   "display_name": "Python 3 (ipykernel)",
   "language": "python",
   "name": "python3"
  },
  "language_info": {
   "codemirror_mode": {
    "name": "ipython",
    "version": 3
   },
   "file_extension": ".py",
   "mimetype": "text/x-python",
   "name": "python",
   "nbconvert_exporter": "python",
   "pygments_lexer": "ipython3",
   "version": "3.10.9"
  }
 },
 "nbformat": 4,
 "nbformat_minor": 5
}
